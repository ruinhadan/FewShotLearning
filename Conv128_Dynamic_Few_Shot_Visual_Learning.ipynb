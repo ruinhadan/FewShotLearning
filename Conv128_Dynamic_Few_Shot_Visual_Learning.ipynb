{
  "nbformat": 4,
  "nbformat_minor": 0,
  "metadata": {
    "accelerator": "GPU",
    "colab": {
      "name": "Conv128 Dynamic Few Shot Visual Learning",
      "provenance": [],
      "collapsed_sections": [],
      "toc_visible": true,
      "include_colab_link": true
    },
    "kernelspec": {
      "display_name": "Python 3",
      "name": "python3"
    },
    "language_info": {
      "name": "python"
    }
  },
  "cells": [
    {
      "cell_type": "markdown",
      "metadata": {
        "id": "view-in-github",
        "colab_type": "text"
      },
      "source": [
        "<a href=\"https://colab.research.google.com/github/ruinhadan/FewShotLearning/blob/main/Conv128_Dynamic_Few_Shot_Visual_Learning.ipynb\" target=\"_parent\"><img src=\"https://colab.research.google.com/assets/colab-badge.svg\" alt=\"Open In Colab\"/></a>"
      ]
    },
    {
      "cell_type": "code",
      "metadata": {
        "id": "g9QA65W9WgUb"
      },
      "source": [
        "import warnings\n",
        "warnings.filterwarnings(\"ignore\")"
      ],
      "execution_count": null,
      "outputs": []
    },
    {
      "cell_type": "code",
      "metadata": {
        "colab": {
          "base_uri": "https://localhost:8080/"
        },
        "id": "eVTuV9i0Tat-",
        "outputId": "4c49192c-f322-4c15-8e79-b159817d95c0"
      },
      "source": [
        "from google.colab import drive\n",
        "drive.mount('/content/drive')"
      ],
      "execution_count": null,
      "outputs": [
        {
          "output_type": "stream",
          "name": "stdout",
          "text": [
            "Mounted at /content/drive\n"
          ]
        }
      ]
    },
    {
      "cell_type": "code",
      "metadata": {
        "colab": {
          "base_uri": "https://localhost:8080/"
        },
        "id": "lpktbgrXrqXA",
        "outputId": "22cf5d63-fb62-4124-b729-a21c5ba96b50"
      },
      "source": [
        "!pip install torchnet"
      ],
      "execution_count": null,
      "outputs": [
        {
          "output_type": "stream",
          "name": "stdout",
          "text": [
            "Collecting torchnet\n",
            "  Downloading torchnet-0.0.4.tar.gz (23 kB)\n",
            "Requirement already satisfied: torch in /usr/local/lib/python3.7/dist-packages (from torchnet) (1.10.0+cu111)\n",
            "Requirement already satisfied: six in /usr/local/lib/python3.7/dist-packages (from torchnet) (1.15.0)\n",
            "Collecting visdom\n",
            "  Downloading visdom-0.1.8.9.tar.gz (676 kB)\n",
            "\u001b[K     |████████████████████████████████| 676 kB 5.7 MB/s \n",
            "\u001b[?25hRequirement already satisfied: typing-extensions in /usr/local/lib/python3.7/dist-packages (from torch->torchnet) (3.10.0.2)\n",
            "Requirement already satisfied: numpy>=1.8 in /usr/local/lib/python3.7/dist-packages (from visdom->torchnet) (1.19.5)\n",
            "Requirement already satisfied: scipy in /usr/local/lib/python3.7/dist-packages (from visdom->torchnet) (1.4.1)\n",
            "Requirement already satisfied: requests in /usr/local/lib/python3.7/dist-packages (from visdom->torchnet) (2.23.0)\n",
            "Requirement already satisfied: tornado in /usr/local/lib/python3.7/dist-packages (from visdom->torchnet) (5.1.1)\n",
            "Requirement already satisfied: pyzmq in /usr/local/lib/python3.7/dist-packages (from visdom->torchnet) (22.3.0)\n",
            "Collecting jsonpatch\n",
            "  Downloading jsonpatch-1.32-py2.py3-none-any.whl (12 kB)\n",
            "Collecting torchfile\n",
            "  Downloading torchfile-0.1.0.tar.gz (5.2 kB)\n",
            "Collecting websocket-client\n",
            "  Downloading websocket_client-1.2.3-py3-none-any.whl (53 kB)\n",
            "\u001b[K     |████████████████████████████████| 53 kB 2.0 MB/s \n",
            "\u001b[?25hRequirement already satisfied: pillow in /usr/local/lib/python3.7/dist-packages (from visdom->torchnet) (7.1.2)\n",
            "Collecting jsonpointer>=1.9\n",
            "  Downloading jsonpointer-2.2-py2.py3-none-any.whl (7.5 kB)\n",
            "Requirement already satisfied: idna<3,>=2.5 in /usr/local/lib/python3.7/dist-packages (from requests->visdom->torchnet) (2.10)\n",
            "Requirement already satisfied: certifi>=2017.4.17 in /usr/local/lib/python3.7/dist-packages (from requests->visdom->torchnet) (2021.10.8)\n",
            "Requirement already satisfied: urllib3!=1.25.0,!=1.25.1,<1.26,>=1.21.1 in /usr/local/lib/python3.7/dist-packages (from requests->visdom->torchnet) (1.24.3)\n",
            "Requirement already satisfied: chardet<4,>=3.0.2 in /usr/local/lib/python3.7/dist-packages (from requests->visdom->torchnet) (3.0.4)\n",
            "Building wheels for collected packages: torchnet, visdom, torchfile\n",
            "  Building wheel for torchnet (setup.py) ... \u001b[?25l\u001b[?25hdone\n",
            "  Created wheel for torchnet: filename=torchnet-0.0.4-py3-none-any.whl size=29742 sha256=8ad4d1d57ae8ddede8f5fadd47a33de35c4c79bfa7253ece813be2c4a572019b\n",
            "  Stored in directory: /root/.cache/pip/wheels/93/17/b3/86db1d93e9dae198813aa79831b403e4844d67986cf93894b5\n",
            "  Building wheel for visdom (setup.py) ... \u001b[?25l\u001b[?25hdone\n",
            "  Created wheel for visdom: filename=visdom-0.1.8.9-py3-none-any.whl size=655250 sha256=5a268f1d2a719b7a0e1993d42b6977324b5ce5cb723b00ee401caf94a3b397f6\n",
            "  Stored in directory: /root/.cache/pip/wheels/2d/d1/9b/cde923274eac9cbb6ff0d8c7c72fe30a3da9095a38fd50bbf1\n",
            "  Building wheel for torchfile (setup.py) ... \u001b[?25l\u001b[?25hdone\n",
            "  Created wheel for torchfile: filename=torchfile-0.1.0-py3-none-any.whl size=5709 sha256=1dbc8f7b069f65e7bd2cb722cc7ec0dac953dc5017a61924d194a51d821d4b7d\n",
            "  Stored in directory: /root/.cache/pip/wheels/ac/5c/3a/a80e1c65880945c71fd833408cd1e9a8cb7e2f8f37620bb75b\n",
            "Successfully built torchnet visdom torchfile\n",
            "Installing collected packages: jsonpointer, websocket-client, torchfile, jsonpatch, visdom, torchnet\n",
            "Successfully installed jsonpatch-1.32 jsonpointer-2.2 torchfile-0.1.0 torchnet-0.0.4 visdom-0.1.8.9 websocket-client-1.2.3\n"
          ]
        }
      ]
    },
    {
      "cell_type": "markdown",
      "metadata": {
        "id": "PR__tOO34aJu"
      },
      "source": [
        "# Imports and Data Preprocessing"
      ]
    },
    {
      "cell_type": "code",
      "metadata": {
        "id": "T2U6swyQ3JgN"
      },
      "source": [
        "import numpy as np\n",
        "import pandas as pd\n",
        "import torch\n",
        "import matplotlib.pyplot as plt\n",
        "import torchvision\n",
        "import torchvision.transforms as transforms\n",
        "import torchvision.datasets\n",
        "import torch.nn as nn\n",
        "import torch.optim as optim\n",
        "from sklearn.model_selection import train_test_split\n",
        "from tqdm import trange\n",
        "import sklearn.metrics as skm\n",
        "from sklearn.preprocessing import OneHotEncoder\n",
        "import torchnet as tnt\n",
        "import torch.nn.functional as F\n",
        "import torch.utils.data as data\n",
        "from PIL import Image\n",
        "from PIL import ImageEnhance\n",
        "import math\n",
        "import random\n",
        "import pickle\n",
        "import collections"
      ],
      "execution_count": null,
      "outputs": []
    },
    {
      "cell_type": "code",
      "metadata": {
        "id": "XA7N_Sc_R7Ez"
      },
      "source": [
        "torch.backends.cudnn.deterministic = True\n",
        "torch.backends.cudnn.benchmark = False\n",
        "torch.cuda.manual_seed(0)"
      ],
      "execution_count": null,
      "outputs": []
    },
    {
      "cell_type": "code",
      "metadata": {
        "id": "K8awocDCPt4L"
      },
      "source": [
        "device = torch.device('cuda:0' if torch.cuda.is_available() else 'cpu')"
      ],
      "execution_count": null,
      "outputs": []
    },
    {
      "cell_type": "code",
      "metadata": {
        "id": "B2tE23UBTW7t"
      },
      "source": [
        "with open(\"/content/drive/MyDrive/MiniImageNet/MiniImagenet/miniImageNet_category_split_train_phase_train.pickle\", 'rb') as f:\n",
        "      ip_data = pickle.load(f, encoding='latin1')"
      ],
      "execution_count": null,
      "outputs": []
    },
    {
      "cell_type": "markdown",
      "metadata": {
        "id": "VHv807nc5NN4"
      },
      "source": [
        "# Dataset"
      ]
    },
    {
      "cell_type": "code",
      "metadata": {
        "id": "A4uRYYqA3EcM"
      },
      "source": [
        "class MiniImageNet(data.Dataset):\n",
        "  def __init__(self, data_base, data_novel=None, phase = 'train'):\n",
        "    super(MiniImageNet, self).__init__()\n",
        "\n",
        "    self.data_base = data_base\n",
        "    self.labels = data_base['labels']\n",
        "    self.phase = phase\n",
        "    self.data_novel = data_novel\n",
        "\n",
        "    if self.phase=='train':\n",
        "      self.label2ind = self.buildLabelIndex(self.labels) # {0:[0 to 599], 1:[600 to 1199]...}\n",
        "      self.labelIds = sorted(self.label2ind.keys())      # [0....63]\n",
        "      self.num_cats = len(self.labelIds)                 # 64\n",
        "      self.labelIds_base = self.labelIds                 # [0....63]\n",
        "      self.num_cats_base = len(self.labelIds_base)       # 64\n",
        "      self.data = self.data_base['data']\n",
        "\n",
        "    elif self.phase=='val' or self.phase=='test':          \n",
        "      self.data = np.concatenate([data_base['data'], data_novel['data']], axis=0)\n",
        "      self.labels = data_base['labels'] + data_novel['labels']\n",
        "\n",
        "      self.label2ind = self.buildLabelIndex(self.labels)\n",
        "      self.labelIds = sorted(self.label2ind.keys())\n",
        "      self.num_cats = len(self.labelIds)\n",
        "\n",
        "      self.labelIds_base = self.buildLabelIndex(data_base['labels']).keys()\n",
        "      self.labelIds_novel = self.buildLabelIndex(data_novel['labels']).keys()\n",
        "      self.num_cats_base = len(self.labelIds_base)\n",
        "      self.num_cats_novel = len(self.labelIds_novel)\n",
        "      intersection = set(self.labelIds_base) & set(self.labelIds_novel)\n",
        "      \n",
        "\n",
        "    mean_pix = [x/255.0 for x in [120.39586422,  115.59361427, 104.54012653]]\n",
        "    std_pix = [x/255.0 for x in [70.68188272,  68.27635443,  72.54505529]]\n",
        "    normalize = transforms.Normalize(mean=mean_pix, std=std_pix)\n",
        "\n",
        "    self.transform = transforms.Compose([\n",
        "                    transforms.RandomCrop(84, padding=8),\n",
        "                    transforms.RandomHorizontalFlip(),\n",
        "                    lambda x: np.asarray(x),\n",
        "                    transforms.ToTensor(),\n",
        "                    normalize\n",
        "                ])\n",
        "    \n",
        "    if phase != 'train':\n",
        "      self.transform = transforms.Compose([\n",
        "                    lambda x: np.asarray(x),\n",
        "                    transforms.ToTensor(),\n",
        "                    normalize\n",
        "                ])\n",
        "      \n",
        "  def buildLabelIndex(self, labels):\n",
        "    label2inds = {}\n",
        "    for idx, label in enumerate(labels):\n",
        "        if label not in label2inds:\n",
        "            label2inds[label] = []\n",
        "        label2inds[label].append(idx)\n",
        "\n",
        "    return label2inds\n",
        "\n",
        "  def __getitem__(self, index):\n",
        "    img, label = self.data[index], self.labels[index]\n",
        "    img = Image.fromarray(img)\n",
        "    img = self.transform(img)\n",
        "    return img, label\n",
        "\n",
        "  def __len__(self):\n",
        "    return len(self.data)\n",
        "\n"
      ],
      "execution_count": null,
      "outputs": []
    },
    {
      "cell_type": "markdown",
      "source": [
        "# Dataloader"
      ],
      "metadata": {
        "id": "WVFCk8J3feI-"
      }
    },
    {
      "cell_type": "code",
      "source": [
        "class FewShotDataloader():\n",
        "    def __init__(self,\n",
        "                 dataset,\n",
        "                 nKnovel=5, # number of novel categories.\n",
        "                 nKbase=-1, # number of base categories.\n",
        "                 nExemplars=5, # number of training examples per novel category.\n",
        "                 nTestNovel=15*5, # number of test examples for all the novel/base categories.\n",
        "                 nTestBase=15*5,  # 3 * nKnovel for train, 15 * nKnovel for test\n",
        "                 batch_size=1, # number of training episodes per batch.\n",
        "                 epoch_size=10, # number of batches per epoch.\n",
        "                 ):\n",
        "\n",
        "        self.dataset = dataset\n",
        "        self.nKnovel = nKnovel\n",
        "        self.nKbase = nKbase if nKbase >= 0 else 64\n",
        "        self.phase = self.dataset.phase\n",
        "        self.nExemplars = nExemplars\n",
        "        self.nTestNovel = nTestNovel\n",
        "        self.nTestBase = nTestBase\n",
        "        self.batch_size = batch_size\n",
        "        self.epoch_size = epoch_size\n",
        "        self.is_eval_mode = (self.phase=='test') or (self.phase=='val')\n",
        "\n",
        "    def sampleImageIdsFrom(self, cat_id, sample_size=5):\n",
        "\n",
        "        return random.sample(self.dataset.label2ind[cat_id], sample_size)\n",
        "\n",
        "    def sampleCategories(self, cat_set, sample_size=5):\n",
        "        \n",
        "        if cat_set=='base':\n",
        "            labelIds = self.dataset.labelIds_base\n",
        "        elif cat_set=='novel':\n",
        "            labelIds = self.dataset.labelIds_novel\n",
        "\n",
        "        assert(len(labelIds) >= sample_size)        # In case number of labels % 5 != 0        \n",
        "        return random.sample(labelIds, sample_size)\n",
        "\n",
        "    def sample_base_and_novel_categories(self, nKbase, nKnovel):\n",
        "        \n",
        "        if self.is_eval_mode:            \n",
        "            Kbase = sorted(self.sampleCategories('base', nKbase))            \n",
        "            Knovel = sorted(self.sampleCategories('novel', nKnovel))\n",
        "        else:            \n",
        "            cats_ids = self.sampleCategories('base', nKnovel+nKbase)            \n",
        "            random.shuffle(cats_ids)\n",
        "            Knovel = sorted(cats_ids[:nKnovel])       # FAKE novel\n",
        "            Kbase = sorted(cats_ids[nKnovel:])        # Remaining base\n",
        "            #print(\"Novel: \",Knovel, \"Base: \", Kbase)\n",
        "\n",
        "        return Kbase, Knovel                          # Class ids\n",
        "\n",
        "    def sample_test_examples_for_base_categories(self, Kbase, nTestBase):\n",
        "        \n",
        "        Tbase = []\n",
        "        if len(Kbase) > 0:\n",
        "            #print(len(Kbase), Kbase, nTestBase)\n",
        "            KbaseIndices = np.random.choice(np.arange(len(Kbase)), size=nTestBase, replace=True)\n",
        "            #print(KbaseIndices)\n",
        "            KbaseIndices, NumImagesPerCategory = np.unique(\n",
        "                KbaseIndices, return_counts=True)\n",
        "            \n",
        "            #print(KbaseIndices, NumImagesPerCategory)\n",
        "\n",
        "            for Kbase_idx, NumImages in zip(KbaseIndices, NumImagesPerCategory):\n",
        "                imd_ids = self.sampleImageIdsFrom(\n",
        "                    Kbase[Kbase_idx], sample_size=NumImages)\n",
        "                Tbase += [(img_id, Kbase_idx) for img_id in imd_ids]\n",
        "            \n",
        "            #print(len(Tbase))\n",
        "\n",
        "        assert(len(Tbase) == nTestBase)\n",
        "\n",
        "        return Tbase\n",
        "\n",
        "    def sample_train_and_test_examples_for_novel_categories(\n",
        "            self, Knovel, nTestNovel, nExemplars, nKbase):\n",
        "        \n",
        "\n",
        "        if len(Knovel) == 0:\n",
        "            return [], []\n",
        "\n",
        "        nKnovel = len(Knovel)\n",
        "        Tnovel = []\n",
        "        Exemplars = []\n",
        "        assert((nTestNovel % nKnovel) == 0)\n",
        "        nEvalExamplesPerClass = nTestNovel // nKnovel\n",
        "\n",
        "        for Knovel_idx in range(len(Knovel)):\n",
        "            imd_ids = self.sampleImageIdsFrom(\n",
        "                Knovel[Knovel_idx],\n",
        "                sample_size=(nEvalExamplesPerClass + nExemplars))\n",
        "\n",
        "            imds_tnovel = imd_ids[:nEvalExamplesPerClass]\n",
        "            imds_ememplars = imd_ids[nEvalExamplesPerClass:]\n",
        "\n",
        "            Tnovel += [(img_id, nKbase + Knovel_idx) for img_id in imds_tnovel]\n",
        "            Exemplars += [(img_id, nKbase + Knovel_idx) for img_id in imds_ememplars]\n",
        "        assert(len(Tnovel) == nTestNovel)\n",
        "        assert(len(Exemplars) == len(Knovel) * nExemplars)\n",
        "        random.shuffle(Exemplars)\n",
        "\n",
        "        return Tnovel, Exemplars\n",
        "\n",
        "    def sample_episode(self):\n",
        "       \n",
        "        nKnovel = self.nKnovel\n",
        "        nKbase = self.nKbase\n",
        "        nTestNovel = self.nTestNovel\n",
        "        nTestBase = self.nTestBase\n",
        "        nExemplars = self.nExemplars\n",
        "\n",
        "        Kbase, Knovel = self.sample_base_and_novel_categories(nKbase, nKnovel)\n",
        "        Tbase = self.sample_test_examples_for_base_categories(Kbase, nTestBase)\n",
        "        #print(len(Tbase))\n",
        "        Tnovel, Exemplars = self.sample_train_and_test_examples_for_novel_categories(\n",
        "            Knovel, nTestNovel, nExemplars, nKbase)\n",
        "\n",
        "       \n",
        "        Test = Tbase + Tnovel\n",
        "        random.shuffle(Test)\n",
        "        Kall = Kbase + Knovel\n",
        "\n",
        "        return Exemplars, Test, Kall, nKbase              # Exemplars - 5-way 5-shot, Test - 15 + 15, Kall - shuffle[0...63], nKbase - 59\n",
        "\n",
        "    def createExamplesTensorData(self, examples):\n",
        "        \n",
        "        images = torch.stack(\n",
        "            [self.dataset[img_idx][0] for img_idx, _ in examples], dim=0)\n",
        "        labels = torch.LongTensor([label for _, label in examples])\n",
        "        return images, labels\n",
        "\n",
        "    def get_iterator(self, epoch=0):\n",
        "        rand_seed = epoch\n",
        "        random.seed(rand_seed)\n",
        "        np.random.seed(rand_seed)\n",
        "        def load_function(iter_idx):\n",
        "            Exemplars, Test, Kall, nKbase = self.sample_episode()\n",
        "            Xt, Yt = self.createExamplesTensorData(Test)\n",
        "            Kall = torch.LongTensor(Kall)\n",
        "            if len(Exemplars) > 0:\n",
        "                Xe, Ye = self.createExamplesTensorData(Exemplars)\n",
        "                return Xe, Ye, Xt, Yt, Kall, nKbase\n",
        "            else:\n",
        "                return Xt, Yt, Kall, nKbase\n",
        "\n",
        "        tnt_dataset = tnt.dataset.ListDataset(\n",
        "            elem_list=range(self.epoch_size), load=load_function)\n",
        "        data_loader = tnt_dataset.parallel(\n",
        "            batch_size=self.batch_size,\n",
        "            # num_workers=(0 if self.is_eval_mode else self.num_workers),\n",
        "            shuffle=(False if self.is_eval_mode else True))\n",
        "\n",
        "        return data_loader\n",
        "\n",
        "    def __call__(self, epoch=0):\n",
        "        return self.get_iterator(epoch)\n",
        "\n",
        "    def __len__(self):\n",
        "        return (self.epoch_size / self.batch_size)\n"
      ],
      "metadata": {
        "id": "vMjvL5rDfc3d"
      },
      "execution_count": null,
      "outputs": []
    },
    {
      "cell_type": "markdown",
      "metadata": {
        "id": "m_ywypBD-v8r"
      },
      "source": [
        "Sample episode\n",
        "```\n",
        "torch.Size([8, 25, 3, 84, 84]) - Xe\n",
        "torch.Size([8, 25]) - Ye\n",
        "torch.Size([8, 30, 3, 84, 84]) - Xt\n",
        "torch.Size([8, 30]) - Yt\n",
        "torch.Size([8, 64]) - Kall\n",
        "torch.Size([8]) - nKbase\n",
        "```"
      ]
    },
    {
      "cell_type": "markdown",
      "metadata": {
        "id": "O_QrO6TV5SX-"
      },
      "source": [
        "# Feature Extractor & Classifier"
      ]
    },
    {
      "cell_type": "code",
      "metadata": {
        "id": "gscz0cmguwNN"
      },
      "source": [
        "class C128F(nn.Module):\n",
        "    def __init__(self, x_dim=3):\n",
        "        super(C128F, self).__init__()\n",
        "        self.encoder = nn.Sequential(\n",
        "            self.conv_block(x_dim, 64),\n",
        "            self.conv_block(64, 64),\n",
        "            self.conv_block(64, 128),\n",
        "            nn.Conv2d(128, 128, 3, padding=1),\n",
        "            nn.BatchNorm2d(128),\n",
        "            nn.MaxPool2d(2)\n",
        "        )\n",
        "\n",
        "        for m in self.modules():\n",
        "            if isinstance(m, nn.Conv2d):\n",
        "                n = m.kernel_size[0] * m.kernel_size[1] * m.out_channels\n",
        "                m.weight.data.normal_(0, math.sqrt(2. / n))\n",
        "            elif isinstance(m, nn.BatchNorm2d):\n",
        "                m.weight.data.fill_(1)\n",
        "                m.bias.data.zero_()\n",
        "\n",
        "    \n",
        "    def conv_block(self, in_channels, out_channels):\n",
        "        return nn.Sequential(\n",
        "            nn.Conv2d(in_channels, out_channels, 3, padding=1),\n",
        "            nn.BatchNorm2d(out_channels),\n",
        "            nn.ReLU(),\n",
        "            nn.MaxPool2d(2)\n",
        "        )\n",
        "\n",
        "\n",
        "    def forward(self, x):\n",
        "        x = self.encoder(x)\n",
        "        return x.view(x.size(0), -1)"
      ],
      "execution_count": null,
      "outputs": []
    },
    {
      "cell_type": "code",
      "metadata": {
        "id": "Pk0KojKAHaiD"
      },
      "source": [
        "class FeatExemplarAvgBlock(nn.Module):\n",
        "    def __init__(self, nFeat):\n",
        "        super(FeatExemplarAvgBlock, self).__init__()\n",
        "\n",
        "    def forward(self, features_train, labels_train):\n",
        "        labels_train_transposed = labels_train.transpose(1,2)\n",
        "        weight_novel = torch.bmm(labels_train_transposed, features_train)\n",
        "        weight_novel = weight_novel.div(\n",
        "            labels_train_transposed.sum(dim=2, keepdim=True).expand_as(weight_novel))\n",
        "        return weight_novel"
      ],
      "execution_count": null,
      "outputs": []
    },
    {
      "cell_type": "code",
      "metadata": {
        "id": "8Zh56rm7Q0ru"
      },
      "source": [
        "class LinearDiag(nn.Module):\n",
        "    def __init__(self, num_features, bias=False):\n",
        "        super(LinearDiag, self).__init__()\n",
        "        weight = torch.FloatTensor(num_features).fill_(1).to(device) # initialize to the identity transform\n",
        "        self.weight = nn.Parameter(weight, requires_grad=True).to(device)\n",
        "\n",
        "        if bias:\n",
        "            bias = torch.FloatTensor(num_features).fill_(0).to(device)\n",
        "            self.bias = nn.Parameter(bias, requires_grad=True).to(device)\n",
        "        else:\n",
        "            self.register_parameter('bias', None)\n",
        "\n",
        "    def forward(self, X):\n",
        "        assert(X.dim()==2 and X.size(1)==self.weight.size(0))\n",
        "        out = X * self.weight.expand_as(X)\n",
        "        if self.bias is not None:\n",
        "            out = out + self.bias.expand_as(out)\n",
        "        return out"
      ],
      "execution_count": null,
      "outputs": []
    },
    {
      "cell_type": "code",
      "metadata": {
        "id": "mu_UBZAhlxys"
      },
      "source": [
        "class AttentionBasedBlock(nn.Module):\n",
        "    def __init__(self, nFeat, nK, scale_att=10.0):\n",
        "        super(AttentionBasedBlock, self).__init__()\n",
        "        self.nFeat = nFeat\n",
        "        self.queryLayer = nn.Linear(nFeat, nFeat)\n",
        "        self.queryLayer.weight.data.copy_(torch.eye(nFeat, nFeat) + torch.randn(nFeat, nFeat)*0.001)\n",
        "        self.queryLayer.bias.data.zero_()\n",
        "        scale_att = torch.FloatTensor(1).fill_(scale_att).to(device)\n",
        "        self.scale_att = nn.Parameter(scale_att, requires_grad=True).to(device)\n",
        "        wkeys = torch.FloatTensor(nK, nFeat).normal_(0.0, np.sqrt(2.0/nFeat)).to(device)\n",
        "        self.wkeys = nn.Parameter(wkeys, requires_grad=True).to(device)\n",
        "\n",
        "\n",
        "    def forward(self, features_train, labels_train, weight_base, Kbase):\n",
        "        batch_size, num_train_examples, num_features = features_train.size()\n",
        "        nKbase = weight_base.size(1) # [batch_size x nKbase x num_features]\n",
        "        labels_train_transposed = labels_train.transpose(1,2)\n",
        "        nKnovel = labels_train_transposed.size(1) # [batch_size x nKnovel x num_train_examples]\n",
        "\n",
        "        features_train = features_train.view(\n",
        "            batch_size*num_train_examples, num_features)\n",
        "        Qe = self.queryLayer(features_train)\n",
        "        Qe = Qe.view(batch_size, num_train_examples, self.nFeat)\n",
        "        Qe = F.normalize(Qe, p=2, dim=Qe.dim()-1, eps=1e-12)\n",
        "\n",
        "        wkeys = self.wkeys[Kbase.reshape(-1)]\n",
        "        wkeys = F.normalize(wkeys, p=2, dim=wkeys.dim()-1, eps=1e-12)\n",
        "        wkeys = wkeys.view(batch_size, nKbase, self.nFeat).transpose(1,2)\n",
        "\n",
        "        \n",
        "        AttentionCoeficients = self.scale_att * torch.bmm(Qe, wkeys)\n",
        "        AttentionCoeficients = F.softmax(AttentionCoeficients.view(batch_size*num_train_examples, nKbase))\n",
        "        AttentionCoeficients = AttentionCoeficients.view(batch_size, num_train_examples, nKbase)\n",
        "\n",
        "        \n",
        "        weight_novel = torch.bmm(AttentionCoeficients, weight_base)\n",
        "        weight_novel = torch.bmm(labels_train_transposed, weight_novel)\n",
        "        weight_novel = weight_novel.div(labels_train_transposed.sum(dim=2, keepdim=True).expand_as(weight_novel))\n",
        "\n",
        "        return weight_novel"
      ],
      "execution_count": null,
      "outputs": []
    },
    {
      "cell_type": "code",
      "metadata": {
        "id": "mamZbE8J87y9"
      },
      "source": [
        "class Classifier(nn.Module):\n",
        "  def __init__(self, gen_type=None):\n",
        "    super(Classifier, self).__init__()\n",
        "\n",
        "    self.nFeat = 128*5*5 # 3200\n",
        "    self.nKall = 64\n",
        "    self.nKbase = 64 if gen_type is None else 59\n",
        "    self.nKnovel = 5\n",
        "    self.gen_type = gen_type\n",
        "\n",
        "    weight_base = torch.FloatTensor(self.nKall, self.nFeat).normal_(0.0, np.sqrt(2.0/self.nFeat)).to(device) # 64 * 3200\n",
        "    self.weight_base = nn.Parameter(weight_base, requires_grad=True).to(device)\n",
        "    bias = torch.FloatTensor(1).fill_(0).to(device)\n",
        "    self.bias = nn.Parameter(bias, requires_grad=True).to(device) # torch.tensor([0])\n",
        "    scale_cls = torch.FloatTensor(1).fill_(10.0).to(device)\n",
        "    self.scale_cls = nn.Parameter(scale_cls, requires_grad=True).to(device)\n",
        "\n",
        "    if self.gen_type=='feat_avg':\n",
        "\n",
        "      self.favgblock = FeatExemplarAvgBlock(self.nFeat)\n",
        "      self.wnLayerFavg = LinearDiag(self.nFeat, bias=True)\n",
        "    \n",
        "    elif self.gen_type=='attn':\n",
        "\n",
        "      self.favgblock = FeatExemplarAvgBlock(self.nFeat)\n",
        "      self.attblock = AttentionBasedBlock(self.nFeat, self.nKall)\n",
        "      self.wnLayerFavg = LinearDiag(self.nFeat)\n",
        "      self.wnLayerWatt = LinearDiag(self.nFeat)\n",
        "    \n",
        "  def get_classification_weights(self, features_train=None, labels_train=None, Kbase_ids=None, batch_size=8):\n",
        "    Kbase_ids = np.asarray([[i for i in range(64)] for j in range(batch_size)]) if Kbase_ids is None else Kbase_ids\n",
        "    weight_base = self.weight_base[Kbase_ids.reshape(-1)]\n",
        "    weight_base = weight_base.view(batch_size, self.nKbase, -1)\n",
        "\n",
        "    if features_train is None:\n",
        "      return weight_base\n",
        "    \n",
        "    _, num_train_examples, num_channels = features_train.size()\n",
        "    features_train = F.normalize(features_train, p=2, dim=features_train.dim()-1, eps=1e-12)\n",
        "    if self.gen_type == 'feat_avg':\n",
        "      weight_novel_avg = self.favgblock(features_train, labels_train)\n",
        "      weight_novel = self.wnLayerFavg(weight_novel_avg.view(batch_size * self.nKnovel, num_channels))\n",
        "      weight_novel = weight_novel.view(batch_size, self.nKnovel, num_channels)\n",
        "    \n",
        "    elif self.gen_type=='attn':\n",
        "      weight_novel_avg = self.favgblock(features_train, labels_train)\n",
        "      weight_novel_avg = self.wnLayerFavg(weight_novel_avg.view(batch_size * self.nKnovel, num_channels))\n",
        "      weight_base_tmp = F.normalize(weight_base, p=2, dim=weight_base.dim()-1, eps=1e-12)\n",
        "\n",
        "      weight_novel_att = self.attblock(features_train, labels_train, weight_base_tmp, Kbase_ids)\n",
        "      weight_novel_att = self.wnLayerWatt(weight_novel_att.view(batch_size * self.nKnovel, num_channels)      )\n",
        "      weight_novel = weight_novel_avg + weight_novel_att\n",
        "      weight_novel = weight_novel.view(batch_size, self.nKnovel, num_channels)\n",
        "    \n",
        "    w = torch.cat((weight_base,weight_novel),1)\n",
        "    return w   \n",
        "    \n",
        "\n",
        "  def apply_classification_weights(self, features, cls_weights):\n",
        "    features = F.normalize(features, p=2, dim=features.dim()-1, eps=1e-12) # 8 * 1 * 3200\n",
        "    cls_weights = F.normalize(cls_weights, p=2, dim=cls_weights.dim()-1, eps=1e-12) # 8 * 64 * 3200    \n",
        "    cls_scores = self.scale_cls * torch.baddbmm(self.bias.view(1, 1, 1),features, cls_weights.transpose(1,2)) # transpose to 8 * 3200 * 64\n",
        "    # 8 * [1 * 3200 x 3200 * 64 => 1 * 64 + bias]\n",
        "    return cls_scores # 8 * 1 * 64\n",
        "\n",
        "  def forward(self, features_test = None, features_train = None, labels_train=None, Kbase_ids=None, batch_size=8): \n",
        "    self.nKbase = len(Kbase_ids[0]) if Kbase_ids is not None else 64\n",
        "    cls_weights = self.get_classification_weights(features_train, labels_train, Kbase_ids, batch_size)\n",
        "    features_test = features_test.view(batch_size, 1 if features_train is None else len(features_test[0]), self.nFeat) \n",
        "    cls_scores = self.apply_classification_weights(features_test, cls_weights)\n",
        "    \n",
        "    return cls_scores\n",
        "    "
      ],
      "execution_count": null,
      "outputs": []
    },
    {
      "cell_type": "markdown",
      "metadata": {
        "id": "2ssrzEVA5bTQ"
      },
      "source": [
        "# Train Stage 1 - Training the feature extractor & base class classifier"
      ]
    },
    {
      "cell_type": "code",
      "metadata": {
        "id": "8KQzVdni6ESQ"
      },
      "source": [
        "BATCH_SIZE = 8\n",
        "EPOCHS = 10"
      ],
      "execution_count": null,
      "outputs": []
    },
    {
      "cell_type": "code",
      "metadata": {
        "id": "G26MhdMz6xo0"
      },
      "source": [
        "# input_data = MiniImageNet(ip_data)\n",
        "# dataloader = torch.utils.data.DataLoader(input_data, batch_size=BATCH_SIZE, shuffle=True, drop_last=True)"
      ],
      "execution_count": null,
      "outputs": []
    },
    {
      "cell_type": "code",
      "metadata": {
        "id": "BirmBdxasog2"
      },
      "source": [
        "input_data = MiniImageNet(ip_data)"
      ],
      "execution_count": null,
      "outputs": []
    },
    {
      "cell_type": "code",
      "metadata": {
        "id": "A57pyYBDsm4I"
      },
      "source": [
        "dataloader = FewShotDataloader(\n",
        "    input_data, \n",
        "    nKnovel=0, \n",
        "    nKbase=64, \n",
        "    nExemplars=0, \n",
        "    nTestNovel=0, \n",
        "    nTestBase=32, \n",
        "    batch_size=8, \n",
        "    epoch_size=8000\n",
        ")"
      ],
      "execution_count": null,
      "outputs": []
    },
    {
      "cell_type": "code",
      "metadata": {
        "id": "55I83EIB8e8J"
      },
      "source": [
        "feature_extractor = C128F().to(device)\n",
        "base_classifier = Classifier().to(device)"
      ],
      "execution_count": null,
      "outputs": []
    },
    {
      "cell_type": "code",
      "metadata": {
        "colab": {
          "base_uri": "https://localhost:8080/"
        },
        "id": "CYGMelqzKoaC",
        "outputId": "1b5da605-a7ba-4126-cb8d-a12c9c04247c"
      },
      "source": [
        "feature_extractor.load_state_dict(torch.load(\"/content/drive/MyDrive/MiniImageNet/MiniImagenet/feat_Paper.pth\"))\n",
        "base_classifier.load_state_dict(torch.load(\"/content/drive/MyDrive/MiniImageNet/MiniImagenet/clas_Paper.pth\"))"
      ],
      "execution_count": null,
      "outputs": [
        {
          "output_type": "execute_result",
          "data": {
            "text/plain": [
              "<All keys matched successfully>"
            ]
          },
          "metadata": {},
          "execution_count": 20
        }
      ]
    },
    {
      "cell_type": "code",
      "metadata": {
        "id": "0uBUyvXN6PfT"
      },
      "source": [
        "# opt_feat = optim.Adam(feature_extractor.parameters(), lr=0.1, weight_decay=1e-9)\n",
        "# opt_clas = optim.Adam(base_classifier.parameters(), lr=0.1, weight_decay=1e-9)\n",
        "# lossfn = nn.CrossEntropyLoss()"
      ],
      "execution_count": null,
      "outputs": []
    },
    {
      "cell_type": "code",
      "metadata": {
        "id": "P4tADapQtY7E"
      },
      "source": [
        "opt_feat = optim.SGD(feature_extractor.parameters(), lr=0.00024, weight_decay=5e-4, momentum=0.9, nesterov=True)\n",
        "opt_clas = optim.SGD(base_classifier.parameters(), lr=0.00024, weight_decay=5e-4, momentum=0.9, nesterov=True)\n",
        "lossfn = nn.CrossEntropyLoss()"
      ],
      "execution_count": null,
      "outputs": []
    },
    {
      "cell_type": "code",
      "metadata": {
        "colab": {
          "base_uri": "https://localhost:8080/"
        },
        "id": "vfL9NSXS3F6x",
        "outputId": "85a2ab91-3a75-4685-a8cc-b7f13df3bdfb"
      },
      "source": [
        "feature_extractor.train()"
      ],
      "execution_count": null,
      "outputs": [
        {
          "data": {
            "text/plain": [
              "C128F(\n",
              "  (encoder): Sequential(\n",
              "    (0): Sequential(\n",
              "      (0): Conv2d(3, 64, kernel_size=(3, 3), stride=(1, 1), padding=(1, 1))\n",
              "      (1): BatchNorm2d(64, eps=1e-05, momentum=0.1, affine=True, track_running_stats=True)\n",
              "      (2): ReLU()\n",
              "      (3): MaxPool2d(kernel_size=2, stride=2, padding=0, dilation=1, ceil_mode=False)\n",
              "    )\n",
              "    (1): Sequential(\n",
              "      (0): Conv2d(64, 64, kernel_size=(3, 3), stride=(1, 1), padding=(1, 1))\n",
              "      (1): BatchNorm2d(64, eps=1e-05, momentum=0.1, affine=True, track_running_stats=True)\n",
              "      (2): ReLU()\n",
              "      (3): MaxPool2d(kernel_size=2, stride=2, padding=0, dilation=1, ceil_mode=False)\n",
              "    )\n",
              "    (2): Sequential(\n",
              "      (0): Conv2d(64, 128, kernel_size=(3, 3), stride=(1, 1), padding=(1, 1))\n",
              "      (1): BatchNorm2d(128, eps=1e-05, momentum=0.1, affine=True, track_running_stats=True)\n",
              "      (2): ReLU()\n",
              "      (3): MaxPool2d(kernel_size=2, stride=2, padding=0, dilation=1, ceil_mode=False)\n",
              "    )\n",
              "    (3): Conv2d(128, 128, kernel_size=(3, 3), stride=(1, 1), padding=(1, 1))\n",
              "    (4): BatchNorm2d(128, eps=1e-05, momentum=0.1, affine=True, track_running_stats=True)\n",
              "    (5): MaxPool2d(kernel_size=2, stride=2, padding=0, dilation=1, ceil_mode=False)\n",
              "  )\n",
              ")"
            ]
          },
          "execution_count": 34,
          "metadata": {},
          "output_type": "execute_result"
        }
      ]
    },
    {
      "cell_type": "code",
      "metadata": {
        "colab": {
          "base_uri": "https://localhost:8080/"
        },
        "id": "qIUC-5kx-TID",
        "outputId": "812e6b8f-e693-430d-d8da-3c7159a13312"
      },
      "source": [
        "loss_per_epoch = []\n",
        "for epoch in trange(EPOCHS):\n",
        "  sum_of_loss = 0.0\n",
        "  for Xt,Yt,Kall,nKbase in dataloader():\n",
        "    Xt = Xt.to(device).view(8*32, 3, 84, 84)\n",
        "    Yt = torch.tensor(Yt).to(device).view(8*32)\n",
        "    #print(Yt, Yt.size())\n",
        "    opt_feat.zero_grad()\n",
        "    opt_clas.zero_grad()\n",
        "    output = base_classifier(feature_extractor(Xt), batch_size=8*32)\n",
        "    loss = lossfn(output.view(8*32, 64), Yt)\n",
        "    sum_of_loss += loss.detach()\n",
        "    loss.backward()\n",
        "    opt_feat.step()\n",
        "    opt_clas.step()\n",
        "    del Xt, Yt, output\n",
        "  print(\"Epoch #\"+str(epoch)+\" Loss:\"+str(sum_of_loss.item()/1000))\n",
        "  loss_per_epoch.append(sum_of_loss/1000)\n",
        "  with open('/content/drive/MyDrive/MiniImageNet/loss_t1_Paper.txt', 'a') as f:\n",
        "    f.write('\\n'+str(sum_of_loss.item()/1000))\n",
        "    \n",
        "# plt.plot(loss_per_epoch)\n",
        "# plt.xlabel('Epochs')\n",
        "# plt.ylabel('Cross Entropy Loss')\n",
        "# plt.show()"
      ],
      "execution_count": null,
      "outputs": [
        {
          "name": "stderr",
          "output_type": "stream",
          "text": [
            " 10%|█         | 1/10 [06:49<1:01:28, 409.80s/it]"
          ]
        },
        {
          "name": "stdout",
          "output_type": "stream",
          "text": [
            "Epoch #0 Loss:0.45599050903320315\n"
          ]
        },
        {
          "name": "stderr",
          "output_type": "stream",
          "text": [
            "\r 20%|██        | 2/10 [13:33<54:10, 406.25s/it]  "
          ]
        },
        {
          "name": "stdout",
          "output_type": "stream",
          "text": [
            "Epoch #1 Loss:0.4539679260253906\n"
          ]
        },
        {
          "name": "stderr",
          "output_type": "stream",
          "text": [
            "\r 30%|███       | 3/10 [20:22<47:32, 407.55s/it]"
          ]
        },
        {
          "name": "stdout",
          "output_type": "stream",
          "text": [
            "Epoch #2 Loss:0.452847900390625\n"
          ]
        },
        {
          "name": "stderr",
          "output_type": "stream",
          "text": [
            "\r 40%|████      | 4/10 [27:12<40:50, 408.41s/it]"
          ]
        },
        {
          "name": "stdout",
          "output_type": "stream",
          "text": [
            "Epoch #3 Loss:0.4519698486328125\n"
          ]
        },
        {
          "name": "stderr",
          "output_type": "stream",
          "text": [
            "\r 50%|█████     | 5/10 [33:57<33:56, 407.21s/it]"
          ]
        },
        {
          "name": "stdout",
          "output_type": "stream",
          "text": [
            "Epoch #4 Loss:0.45114337158203127\n"
          ]
        },
        {
          "name": "stderr",
          "output_type": "stream",
          "text": [
            "\r 60%|██████    | 6/10 [40:42<27:05, 406.43s/it]"
          ]
        },
        {
          "name": "stdout",
          "output_type": "stream",
          "text": [
            "Epoch #5 Loss:0.450466064453125\n"
          ]
        },
        {
          "name": "stderr",
          "output_type": "stream",
          "text": [
            "\r 70%|███████   | 7/10 [47:26<20:17, 405.75s/it]"
          ]
        },
        {
          "name": "stdout",
          "output_type": "stream",
          "text": [
            "Epoch #6 Loss:0.45155978393554685\n"
          ]
        },
        {
          "name": "stderr",
          "output_type": "stream",
          "text": [
            "\r 80%|████████  | 8/10 [54:10<13:30, 405.25s/it]"
          ]
        },
        {
          "name": "stdout",
          "output_type": "stream",
          "text": [
            "Epoch #7 Loss:0.4502254943847656\n",
            "Epoch #8 Loss:0.45212460327148435\n"
          ]
        },
        {
          "name": "stderr",
          "output_type": "stream",
          "text": [
            "100%|██████████| 10/10 [1:07:39<00:00, 405.94s/it]"
          ]
        },
        {
          "name": "stdout",
          "output_type": "stream",
          "text": [
            "Epoch #9 Loss:0.44872283935546875\n"
          ]
        },
        {
          "name": "stderr",
          "output_type": "stream",
          "text": [
            "\n"
          ]
        }
      ]
    },
    {
      "cell_type": "code",
      "metadata": {
        "colab": {
          "base_uri": "https://localhost:8080/",
          "height": 279
        },
        "id": "sM18A5kk-urR",
        "outputId": "6252fc3f-acfc-4a96-d9b0-58c3883661a1"
      },
      "source": [
        "with open('/content/drive/MyDrive/MiniImageNet/loss_t1_Paper.txt', 'r') as f:\n",
        "  loss_per_epoch = f.readlines()\n",
        "\n",
        "loss_per_epoch = [float(x) for x in loss_per_epoch]\n",
        "\n",
        "plt.plot(loss_per_epoch)\n",
        "plt.xlabel('Epochs')\n",
        "plt.ylabel('Cross Entropy Loss')\n",
        "plt.show()"
      ],
      "execution_count": null,
      "outputs": [
        {
          "data": {
            "image/png": "[encoded data removed]",
            "text/plain": [
              "<Figure size 432x288 with 1 Axes>"
            ]
          },
          "metadata": {},
          "output_type": "display_data"
        }
      ]
    },
    {
      "cell_type": "markdown",
      "metadata": {
        "id": "j2_oFWwu7J_j"
      },
      "source": [
        "# Saving models' weights"
      ]
    },
    {
      "cell_type": "code",
      "metadata": {
        "id": "YOt6mawIhwkZ"
      },
      "source": [
        "torch.save(feature_extractor.state_dict(), \"/content/drive/MyDrive/MiniImageNet/MiniImagenet/feat_Paper.pth\")\n",
        "torch.save(base_classifier.state_dict(), \"/content/drive/MyDrive/MiniImageNet/MiniImagenet/clas_Paper.pth\")\n",
        "torch.save(base_classifier.state_dict()['weight_base'], \"/content/drive/MyDrive/MiniImageNet/MiniImagenet/wts_base_Paper.pt\")"
      ],
      "execution_count": null,
      "outputs": []
    },
    {
      "cell_type": "markdown",
      "metadata": {
        "id": "AUNuK3lQXjYd"
      },
      "source": [
        "# Evaluating Feature Extractor"
      ]
    },
    {
      "cell_type": "code",
      "metadata": {
        "colab": {
          "base_uri": "https://localhost:8080/"
        },
        "id": "42oXh4rXc_iW",
        "outputId": "b66e03db-01c6-4031-fc85-3bb942c41167"
      },
      "source": [
        "feature_extractor.load_state_dict(torch.load(\"/content/drive/MyDrive/MiniImageNet/MiniImagenet/feat_0.00001_200.pth\"))\n",
        "base_classifier.load_state_dict(torch.load(\"/content/drive/MyDrive/MiniImageNet/MiniImagenet/clas_0.00001_200.pth\"))"
      ],
      "execution_count": null,
      "outputs": [
        {
          "data": {
            "text/plain": [
              "<All keys matched successfully>"
            ]
          },
          "execution_count": 23,
          "metadata": {},
          "output_type": "execute_result"
        }
      ]
    },
    {
      "cell_type": "code",
      "metadata": {
        "id": "a1e8XseyW-lC"
      },
      "source": [
        "with open(\"/content/drive/MyDrive/MiniImageNet/MiniImagenet/miniImageNet_category_split_train_phase_val.pickle\", 'rb') as f:\n",
        "      validation_data = pickle.load(f, encoding='latin1')"
      ],
      "execution_count": null,
      "outputs": []
    },
    {
      "cell_type": "code",
      "metadata": {
        "id": "Wd98gqCmcqVR"
      },
      "source": [
        "val_data = MiniImageNet(validation_data)\n",
        "val_dataloader = data.DataLoader(val_data, batch_size=BATCH_SIZE, shuffle=True, drop_last=True)"
      ],
      "execution_count": null,
      "outputs": []
    },
    {
      "cell_type": "code",
      "metadata": {
        "id": "tm6-obRg4EZV"
      },
      "source": [
        "ip_test_dataloader = data.DataLoader(input_data, batch_size=BATCH_SIZE, shuffle=True, drop_last=True)"
      ],
      "execution_count": null,
      "outputs": []
    },
    {
      "cell_type": "code",
      "metadata": {
        "colab": {
          "base_uri": "https://localhost:8080/"
        },
        "id": "WhrymiImn7G9",
        "outputId": "fad949fa-360b-4424-97bb-4bc99577a46d"
      },
      "source": [
        "base_classifier.load_state_dict(torch.load(\"/content/drive/MyDrive/MiniImageNet/MiniImagenet/clas_Paper.pth\"))"
      ],
      "execution_count": null,
      "outputs": [
        {
          "data": {
            "text/plain": [
              "<All keys matched successfully>"
            ]
          },
          "execution_count": 51,
          "metadata": {},
          "output_type": "execute_result"
        }
      ]
    },
    {
      "cell_type": "code",
      "metadata": {
        "colab": {
          "base_uri": "https://localhost:8080/"
        },
        "id": "bB8Ld48yn-jc",
        "outputId": "67253975-44b0-4d59-d8d6-04a7dd4a2716"
      },
      "source": [
        "base_classifier.state_dict()"
      ],
      "execution_count": null,
      "outputs": [
        {
          "data": {
            "text/plain": [
              "OrderedDict([('weight_base',\n",
              "              tensor([[ 0.0075,  0.0084,  0.0097,  ...,  0.0148,  0.0116, -0.0048],\n",
              "                      [ 0.0014, -0.0041, -0.0021,  ..., -0.0030,  0.0014, -0.0017],\n",
              "                      [ 0.0062,  0.0108,  0.0206,  ..., -0.0013, -0.0036, -0.0101],\n",
              "                      ...,\n",
              "                      [-0.0175, -0.0254, -0.0237,  ...,  0.0357,  0.0126,  0.0036],\n",
              "                      [ 0.0096,  0.0101,  0.0124,  ...,  0.0105,  0.0093,  0.0058],\n",
              "                      [ 0.0139,  0.0165,  0.0150,  ...,  0.0039, -0.0115, -0.0041]],\n",
              "                     device='cuda:0')),\n",
              "             ('bias', tensor([-0.0002], device='cuda:0')),\n",
              "             ('scale_cls', tensor([28.8858], device='cuda:0'))])"
            ]
          },
          "execution_count": 56,
          "metadata": {},
          "output_type": "execute_result"
        }
      ]
    },
    {
      "cell_type": "code",
      "metadata": {
        "colab": {
          "base_uri": "https://localhost:8080/"
        },
        "id": "yRT-e2ChmK7M",
        "outputId": "473a84ed-348b-49da-bd6c-213dcfb2a1cc"
      },
      "source": [
        "base_classifier_dict = base_classifier.state_dict()\n",
        "modified_state_dict = {}\n",
        "for k in base_classifier_dict.keys():\n",
        "  if k == 'scale_cls':\n",
        "    modified_state_dict[k] = torch.Tensor([28.8858])\n",
        "  else:\n",
        "    modified_state_dict[k] = base_classifier_dict[k]\n",
        "modified_state_dict = collections.OrderedDict(modified_state_dict)\n",
        "base_classifier_dict.update(modified_state_dict)\n",
        "base_classifier.load_state_dict(base_classifier_dict)\n",
        "base_classifier.state_dict()"
      ],
      "execution_count": null,
      "outputs": [
        {
          "data": {
            "text/plain": [
              "OrderedDict([('weight_base',\n",
              "              tensor([[ 0.0075,  0.0084,  0.0097,  ...,  0.0148,  0.0116, -0.0048],\n",
              "                      [ 0.0014, -0.0041, -0.0021,  ..., -0.0030,  0.0014, -0.0017],\n",
              "                      [ 0.0062,  0.0108,  0.0206,  ..., -0.0013, -0.0036, -0.0101],\n",
              "                      ...,\n",
              "                      [-0.0175, -0.0254, -0.0237,  ...,  0.0357,  0.0126,  0.0036],\n",
              "                      [ 0.0096,  0.0101,  0.0124,  ...,  0.0105,  0.0093,  0.0058],\n",
              "                      [ 0.0139,  0.0165,  0.0150,  ...,  0.0039, -0.0115, -0.0041]],\n",
              "                     device='cuda:0')),\n",
              "             ('bias', tensor([-0.0002], device='cuda:0')),\n",
              "             ('scale_cls', tensor([28.8858], device='cuda:0'))])"
            ]
          },
          "execution_count": 53,
          "metadata": {},
          "output_type": "execute_result"
        }
      ]
    },
    {
      "cell_type": "code",
      "metadata": {
        "colab": {
          "base_uri": "https://localhost:8080/"
        },
        "id": "npGTaByVZu6a",
        "outputId": "f2ace329-4485-4f23-821f-066818f19585"
      },
      "source": [
        "feature_extractor.eval()\n",
        "acc = 0\n",
        "cnt = 0\n",
        "for X,Y in val_dataloader:\n",
        "  X = X.to(device)\n",
        "  Y = Y.to(device)\n",
        "  output = base_classifier(feature_extractor(X))\n",
        "  pred  = torch.argmax(output.view(8,64),dim=1)\n",
        "  acc += skm.accuracy_score(Y.cpu().detach().numpy(),pred.cpu().detach().numpy())\n",
        "  cnt += 1\n",
        "\n",
        "print('Base class accuracy: ', acc/cnt)"
      ],
      "execution_count": null,
      "outputs": [
        {
          "name": "stdout",
          "output_type": "stream",
          "text": [
            "Base class accuracy:  0.6886470337174563\n"
          ]
        }
      ]
    },
    {
      "cell_type": "markdown",
      "metadata": {
        "id": "XbU7bNYQgk8M"
      },
      "source": [
        "# Train Stage 2 - Training the Few-shot classification weight generator"
      ]
    },
    {
      "cell_type": "markdown",
      "metadata": {
        "id": "JuCrwjgr-vyx"
      },
      "source": [
        "## Instantiating classifier & loading base weights"
      ]
    },
    {
      "cell_type": "code",
      "metadata": {
        "id": "6mBI4_wsixlz"
      },
      "source": [
        "input_data = MiniImageNet(ip_data)"
      ],
      "execution_count": null,
      "outputs": []
    },
    {
      "cell_type": "code",
      "metadata": {
        "id": "CY2Ay1Wa0-HR"
      },
      "source": [
        "dataloader = FewShotDataloader(\n",
        "    input_data, \n",
        "    nKnovel=5, \n",
        "    nKbase=59, \n",
        "    nExemplars=5, \n",
        "    nTestNovel=15, \n",
        "    nTestBase=15, \n",
        "    batch_size=8, \n",
        "    epoch_size=8000\n",
        ")"
      ],
      "execution_count": null,
      "outputs": []
    },
    {
      "cell_type": "code",
      "metadata": {
        "colab": {
          "base_uri": "https://localhost:8080/"
        },
        "id": "2VekyfkMp5Va",
        "outputId": "9b84a3fd-3fac-449f-c418-098850b2b7a9"
      },
      "source": [
        "feature_extractor = C128F().to(device)\n",
        "feature_extractor.load_state_dict(torch.load('/content/drive/MyDrive/MiniImageNet/MiniImagenet/feat_Paper.pth'))"
      ],
      "execution_count": null,
      "outputs": [
        {
          "output_type": "execute_result",
          "data": {
            "text/plain": [
              "<All keys matched successfully>"
            ]
          },
          "metadata": {},
          "execution_count": 21
        }
      ]
    },
    {
      "cell_type": "code",
      "metadata": {
        "id": "fs4KFSF2G0FB"
      },
      "source": [
        "few_shot_classifier = Classifier(gen_type=\"attn\").to(device)"
      ],
      "execution_count": null,
      "outputs": []
    },
    {
      "cell_type": "code",
      "metadata": {
        "id": "fUUSmtyPoU5d"
      },
      "source": [
        "few_shot_classifier = Classifier(gen_type=\"feat_avg\").to(device)"
      ],
      "execution_count": null,
      "outputs": []
    },
    {
      "cell_type": "code",
      "metadata": {
        "colab": {
          "base_uri": "https://localhost:8080/"
        },
        "id": "9oE_pHgqu434",
        "outputId": "d2ccdaa4-0223-42df-8501-bdabefb266f6"
      },
      "source": [
        "few_shot_classifier.load_state_dict(torch.load('/content/drive/MyDrive/MiniImageNet/MiniImagenet/clas_stage2_avg_Paper.pth'))"
      ],
      "execution_count": null,
      "outputs": [
        {
          "data": {
            "text/plain": [
              "<All keys matched successfully>"
            ]
          },
          "execution_count": 19,
          "metadata": {},
          "output_type": "execute_result"
        }
      ]
    },
    {
      "cell_type": "code",
      "metadata": {
        "colab": {
          "base_uri": "https://localhost:8080/"
        },
        "id": "95ucQMrXUxbC",
        "outputId": "d66c7550-8652-4806-fcab-e58bd72e6190"
      },
      "source": [
        "few_shot_classifier_dict = few_shot_classifier.state_dict()\n",
        "base_classifier_wts = torch.load('/content/drive/MyDrive/MiniImageNet/MiniImagenet/clas_Paper.pth')\n",
        "modified_state_dict = {}\n",
        "for k in few_shot_classifier_dict.keys():\n",
        "  if k == 'weight_base':\n",
        "    modified_state_dict[k] = base_classifier_wts[k]\n",
        "  else:\n",
        "    modified_state_dict[k] = few_shot_classifier_dict[k]\n",
        "modified_state_dict = collections.OrderedDict(modified_state_dict)\n",
        "few_shot_classifier_dict.update(modified_state_dict)\n",
        "few_shot_classifier.load_state_dict(few_shot_classifier_dict)\n",
        "few_shot_classifier.state_dict()"
      ],
      "execution_count": null,
      "outputs": [
        {
          "output_type": "execute_result",
          "data": {
            "text/plain": [
              "OrderedDict([('weight_base',\n",
              "              tensor([[ 0.0075,  0.0084,  0.0097,  ...,  0.0148,  0.0116, -0.0048],\n",
              "                      [ 0.0014, -0.0041, -0.0021,  ..., -0.0030,  0.0014, -0.0017],\n",
              "                      [ 0.0062,  0.0108,  0.0206,  ..., -0.0013, -0.0036, -0.0101],\n",
              "                      ...,\n",
              "                      [-0.0175, -0.0254, -0.0237,  ...,  0.0357,  0.0126,  0.0036],\n",
              "                      [ 0.0096,  0.0101,  0.0124,  ...,  0.0105,  0.0093,  0.0058],\n",
              "                      [ 0.0139,  0.0165,  0.0150,  ...,  0.0039, -0.0115, -0.0041]],\n",
              "                     device='cuda:0')),\n",
              "             ('bias', tensor([0.], device='cuda:0')),\n",
              "             ('scale_cls', tensor([10.], device='cuda:0')),\n",
              "             ('wnLayerFavg.weight',\n",
              "              tensor([1., 1., 1.,  ..., 1., 1., 1.], device='cuda:0')),\n",
              "             ('wnLayerFavg.bias',\n",
              "              tensor([0., 0., 0.,  ..., 0., 0., 0.], device='cuda:0'))])"
            ]
          },
          "metadata": {},
          "execution_count": 28
        }
      ]
    },
    {
      "cell_type": "code",
      "metadata": {
        "id": "Bjh7pOexeskP"
      },
      "source": [
        "opt_clas = optim.SGD(few_shot_classifier.parameters(), lr=0.1, weight_decay=5e-4, momentum=0.9, nesterov=True)\n",
        "lossfn = nn.CrossEntropyLoss()"
      ],
      "execution_count": null,
      "outputs": []
    },
    {
      "cell_type": "code",
      "metadata": {
        "colab": {
          "base_uri": "https://localhost:8080/"
        },
        "id": "oD1hXv0X9_jw",
        "outputId": "8f57ba7e-3bd5-48fb-8e99-7b7c09ec41c0"
      },
      "source": [
        "EPOCHS=20\n",
        "\n",
        "loss_per_epoch = []\n",
        "feature_extractor.eval()\n",
        "\n",
        "for param in feature_extractor.parameters():\n",
        "  param.requires_grad = False\n",
        "\n",
        "for epoch in trange(EPOCHS):\n",
        "  sum_of_loss = 0.0\n",
        "\n",
        "  for Xe,Ye,Xt,Yt,Kall,nKbase in dataloader():\n",
        "    Xe = Xe.to(device).view(8 * 25, 3, 84, 84)\n",
        "    features_train = feature_extractor(Xe)\n",
        "    features_train = features_train.resize(8,25,3200)\n",
        "    del Xe\n",
        "\n",
        "    Xt = Xt.to(device).view(8 * 30, 3, 84, 84)\n",
        "    features_test = feature_extractor(Xt)\n",
        "    features_test = features_test.resize(8,30,3200)\n",
        "    Ye = torch.tensor(Ye).to(device)\n",
        "    labels_train = []\n",
        "\n",
        "    for labels in Ye:\n",
        "      enc = OneHotEncoder()\n",
        "      labels_train.append(enc.fit_transform(labels.cpu().numpy().reshape(-1,1)).toarray())\n",
        "\n",
        "    labels_train = torch.tensor(labels_train).to(device)\n",
        "\n",
        "    opt_clas.zero_grad()\n",
        "\n",
        "    output = few_shot_classifier(features_test, features_train.float(), labels_train.float(), Kbase_ids=Kall[:,:59], batch_size=8)\n",
        "    \n",
        "    Yt = torch.tensor(Yt).to(device).view(8*30)\n",
        "    loss = lossfn(output.view(8*30,64), Yt)\n",
        "    sum_of_loss+=loss.detach()\n",
        "\n",
        "    loss.backward()    \n",
        "    opt_clas.step()\n",
        "\n",
        "  print(\"Epoch #\"+str(epoch)+\" Loss:\"+str(sum_of_loss.item()/1000))  \n",
        "  loss_per_epoch.append(sum_of_loss/1000)\n",
        "  with open('/content/drive/MyDrive/MiniImageNet/loss_t2_Paper_avg_0.1.txt', 'a') as f:\n",
        "    f.write('\\n'+str(sum_of_loss.item()/1000))\n",
        "    \n",
        "# plt.plot(loss_per_epoch)\n",
        "# plt.xlabel('Epochs')\n",
        "# plt.ylabel('Cross Entropy Loss')\n",
        "# plt.show()"
      ],
      "execution_count": null,
      "outputs": [
        {
          "output_type": "stream",
          "name": "stderr",
          "text": [
            "  5%|▌         | 1/20 [07:24<2:20:53, 444.91s/it]"
          ]
        },
        {
          "output_type": "stream",
          "name": "stdout",
          "text": [
            "Epoch #0 Loss:0.9474794311523438\n"
          ]
        },
        {
          "output_type": "stream",
          "name": "stderr",
          "text": [
            "\r 10%|█         | 2/20 [14:49<2:13:21, 444.52s/it]"
          ]
        },
        {
          "output_type": "stream",
          "name": "stdout",
          "text": [
            "Epoch #1 Loss:0.8817909545898438\n"
          ]
        },
        {
          "output_type": "stream",
          "name": "stderr",
          "text": [
            "\r 15%|█▌        | 3/20 [22:14<2:06:03, 444.91s/it]"
          ]
        },
        {
          "output_type": "stream",
          "name": "stdout",
          "text": [
            "Epoch #2 Loss:0.9063026733398437\n"
          ]
        },
        {
          "output_type": "stream",
          "name": "stderr",
          "text": [
            "\r 20%|██        | 4/20 [29:40<1:58:48, 445.52s/it]"
          ]
        },
        {
          "output_type": "stream",
          "name": "stdout",
          "text": [
            "Epoch #3 Loss:0.9140669555664063\n"
          ]
        },
        {
          "output_type": "stream",
          "name": "stderr",
          "text": [
            "\r 25%|██▌       | 5/20 [37:06<1:51:22, 445.48s/it]"
          ]
        },
        {
          "output_type": "stream",
          "name": "stdout",
          "text": [
            "Epoch #4 Loss:0.9175047607421875\n"
          ]
        },
        {
          "output_type": "stream",
          "name": "stderr",
          "text": [
            "\r 30%|███       | 6/20 [44:31<1:43:52, 445.19s/it]"
          ]
        },
        {
          "output_type": "stream",
          "name": "stdout",
          "text": [
            "Epoch #5 Loss:0.9201671752929688\n"
          ]
        },
        {
          "output_type": "stream",
          "name": "stderr",
          "text": [
            "\r 35%|███▌      | 7/20 [51:54<1:36:21, 444.72s/it]"
          ]
        },
        {
          "output_type": "stream",
          "name": "stdout",
          "text": [
            "Epoch #6 Loss:0.9207140502929687\n"
          ]
        },
        {
          "output_type": "stream",
          "name": "stderr",
          "text": [
            "\r 40%|████      | 8/20 [59:20<1:28:59, 444.93s/it]"
          ]
        },
        {
          "output_type": "stream",
          "name": "stdout",
          "text": [
            "Epoch #7 Loss:0.9225994873046875\n"
          ]
        },
        {
          "output_type": "stream",
          "name": "stderr",
          "text": [
            "\r 45%|████▌     | 9/20 [1:06:44<1:21:30, 444.63s/it]"
          ]
        },
        {
          "output_type": "stream",
          "name": "stdout",
          "text": [
            "Epoch #8 Loss:0.9185869140625\n"
          ]
        },
        {
          "output_type": "stream",
          "name": "stderr",
          "text": [
            "\r 50%|█████     | 10/20 [1:14:09<1:14:07, 444.79s/it]"
          ]
        },
        {
          "output_type": "stream",
          "name": "stdout",
          "text": [
            "Epoch #9 Loss:0.9204356689453125\n"
          ]
        }
      ]
    },
    {
      "cell_type": "code",
      "metadata": {
        "colab": {
          "base_uri": "https://localhost:8080/",
          "height": 279
        },
        "id": "VpWyEmuK8Jfc",
        "outputId": "158c223c-d110-495f-ffcb-5494e55cca49"
      },
      "source": [
        "with open('/content/drive/MyDrive/MiniImageNet/loss_attn_paper_1shot.txt', 'r') as f:\n",
        "  loss_per_epoch = f.readlines()\n",
        "\n",
        "loss_per_epoch = [float(x) for x in loss_per_epoch]\n",
        "\n",
        "plt.plot(loss_per_epoch)\n",
        "plt.xlabel('Epochs')\n",
        "plt.ylabel('Cross Entropy Loss')\n",
        "plt.show()"
      ],
      "execution_count": null,
      "outputs": [
        {
          "output_type": "display_data",
          "data": {
            "image/png": "[encoded data removed]",
            "text/plain": [
              "<Figure size 432x288 with 1 Axes>"
            ]
          },
          "metadata": {
            "needs_background": "light"
          }
        }
      ]
    },
    {
      "cell_type": "markdown",
      "metadata": {
        "id": "x1DwrV5CAUSD"
      },
      "source": [
        "## Saving model weights"
      ]
    },
    {
      "cell_type": "code",
      "metadata": {
        "id": "rPBs735K9RTj"
      },
      "source": [
        "torch.save(few_shot_classifier.state_dict(), \"/content/drive/MyDrive/MiniImageNet/MiniImagenet/clas_stage2_avg_Paper.pth\")"
      ],
      "execution_count": null,
      "outputs": []
    },
    {
      "cell_type": "markdown",
      "metadata": {
        "id": "ZGuqpSHdL7Mh"
      },
      "source": [
        "# Evaluating on Validation Sets"
      ]
    },
    {
      "cell_type": "code",
      "metadata": {
        "id": "A3mpOIjzR3bj"
      },
      "source": [
        "with open(\"/content/drive/MyDrive/MiniImageNet/MiniImagenet/miniImageNet_category_split_val.pickle\", 'rb') as f:\n",
        "      novel_validation_data = pickle.load(f, encoding='latin1')"
      ],
      "execution_count": null,
      "outputs": []
    },
    {
      "cell_type": "code",
      "metadata": {
        "id": "6fCojxuhR8st"
      },
      "source": [
        "with open(\"/content/drive/MyDrive/MiniImageNet/MiniImagenet/miniImageNet_category_split_train_phase_val.pickle\", 'rb') as f:\n",
        "      base_validation_data = pickle.load(f, encoding='latin1')"
      ],
      "execution_count": null,
      "outputs": []
    },
    {
      "cell_type": "code",
      "metadata": {
        "id": "Mi3ghv-TSB5M"
      },
      "source": [
        "val_data = MiniImageNet(data_base=base_validation_data, data_novel=novel_validation_data, phase='val')"
      ],
      "execution_count": null,
      "outputs": []
    },
    {
      "cell_type": "code",
      "metadata": {
        "id": "YnlCiIr5Smhr"
      },
      "source": [
        "# 5-way 5-shot\n",
        "\n",
        "val_dataloader_5 = FewShotDataloader(\n",
        "    val_data, \n",
        "    nKnovel=5, \n",
        "    nKbase=64,\n",
        "    nExemplars=5, \n",
        "    nTestNovel=75, \n",
        "    nTestBase=75, \n",
        "    batch_size=1, \n",
        "    epoch_size=2000\n",
        ")"
      ],
      "execution_count": null,
      "outputs": []
    },
    {
      "cell_type": "code",
      "source": [
        "# 5-way 1-shot\n",
        "\n",
        "val_dataloader_1 = FewShotDataloader(\n",
        "    val_data, \n",
        "    nKnovel=5, \n",
        "    nKbase=64,\n",
        "    nExemplars=1, \n",
        "    nTestNovel=75, \n",
        "    nTestBase=75, \n",
        "    batch_size=1, \n",
        "    epoch_size=2000\n",
        ")"
      ],
      "metadata": {
        "id": "aIzwkTM42jqi"
      },
      "execution_count": null,
      "outputs": []
    },
    {
      "cell_type": "markdown",
      "source": [
        "## Feature Averaging"
      ],
      "metadata": {
        "id": "OAVKUZ8KjUsg"
      }
    },
    {
      "cell_type": "markdown",
      "source": [
        "### 5-way 5-shot"
      ],
      "metadata": {
        "id": "wtkMs8csjo-b"
      }
    },
    {
      "cell_type": "code",
      "source": [
        "feature_extractor = C128F().to(device)\n",
        "feature_extractor.load_state_dict(torch.load(\"/content/drive/MyDrive/MiniImageNet/MiniImagenet/feat.pth\"))"
      ],
      "metadata": {
        "colab": {
          "base_uri": "https://localhost:8080/"
        },
        "id": "hn8OAXKrru-N",
        "outputId": "2f21003e-7448-445f-80c8-01bf59920202"
      },
      "execution_count": null,
      "outputs": [
        {
          "output_type": "execute_result",
          "data": {
            "text/plain": [
              "<All keys matched successfully>"
            ]
          },
          "metadata": {},
          "execution_count": 32
        }
      ]
    },
    {
      "cell_type": "code",
      "metadata": {
        "colab": {
          "base_uri": "https://localhost:8080/"
        },
        "id": "6hJd7HFEYQI4",
        "outputId": "042c4223-8e1c-4d9c-8e17-cefba8ec0acf"
      },
      "source": [
        "few_shot_classifier = Classifier(gen_type=\"feat_avg\").to(device)\n",
        "few_shot_classifier.load_state_dict(torch.load('/content/drive/MyDrive/MiniImageNet/MiniImagenet/clas_stage2.pth'))"
      ],
      "execution_count": null,
      "outputs": [
        {
          "output_type": "execute_result",
          "data": {
            "text/plain": [
              "<All keys matched successfully>"
            ]
          },
          "metadata": {},
          "execution_count": 33
        }
      ]
    },
    {
      "cell_type": "code",
      "metadata": {
        "colab": {
          "base_uri": "https://localhost:8080/"
        },
        "id": "tEKqI363S7bL",
        "outputId": "ab81ca51-0ef8-4c92-e5c3-bcc03c4952ce"
      },
      "source": [
        "feature_extractor.eval()\n",
        "acc_both = 0\n",
        "acc_novel = 0\n",
        "acc_base = 0\n",
        "cnt = 0\n",
        "for Xe,Ye,Xt,Yt,Kall,nKbase in val_dataloader_5():\n",
        "    Xe = Xe.to(device).view(1 * 25, 3, 84, 84)\n",
        "    features_train = feature_extractor(Xe)\n",
        "    features_train = features_train.resize(1,25,3200)\n",
        "    del Xe\n",
        "\n",
        "    Xt = Xt.to(device).view(1 * 150, 3, 84, 84)\n",
        "    features_test = feature_extractor(Xt)\n",
        "    features_test = features_test.resize(1,150,3200)\n",
        "    Ye = torch.tensor(Ye).to(device)\n",
        "    labels_train = []\n",
        "\n",
        "    for labels in Ye:\n",
        "      enc = OneHotEncoder()\n",
        "      labels_train.append(enc.fit_transform(labels.cpu().numpy().reshape(-1,1)).toarray())\n",
        "\n",
        "    labels_train = torch.tensor(labels_train).to(device)\n",
        "\n",
        "    output = few_shot_classifier(features_test, features_train.float(), labels_train.float(), Kbase_ids=None, batch_size=1)\n",
        "    \n",
        "\n",
        "    Yt = torch.tensor(Yt).to(device).view(1*150)    \n",
        "    nKbase = nKbase.to(device)\n",
        "\n",
        "    base_ids = torch.nonzero(Yt < nKbase).view(-1)\n",
        "    novel_ids = torch.nonzero(Yt >= nKbase).view(-1)\n",
        "    \n",
        "    \n",
        "    output = output.view(150,-1)\n",
        "    output_base = output[base_ids,:]\n",
        "    output_novel = output[novel_ids,:]\n",
        "    Yt_base = Yt[base_ids]\n",
        "    Yt_novel = Yt[novel_ids]\n",
        "\n",
        "    \n",
        "\n",
        "    pred_novel  = nKbase + torch.argmax(output_novel[:,nKbase:], dim=1)\n",
        "    pred_base = torch.argmax(output_base[:,:nKbase], dim=1)\n",
        "    pred_both  = torch.argmax(output,dim=1)\n",
        "\n",
        "\n",
        "    acc_both += skm.accuracy_score(Yt.cpu().detach().numpy(),pred_both.cpu().detach().numpy())\n",
        "    acc_base += skm.accuracy_score(Yt_base.cpu().detach().numpy(),pred_base.cpu().detach().numpy())\n",
        "    acc_novel += skm.accuracy_score(Yt_novel.cpu().detach().numpy(),pred_novel.cpu().detach().numpy())\n",
        "    cnt += 1\n",
        "\n",
        "print('5-way 5-shot Validation Set Accuracies [Feature Averaging]:\\n\\tBase Class Accuracy: %f\\n\\tNovel Class Accuracy: %f\\n\\tBoth Class Accuracy: %f'%((acc_base/cnt)*100.0, (acc_novel/cnt)*100.0, (acc_both/cnt)*100.0))"
      ],
      "execution_count": null,
      "outputs": [
        {
          "output_type": "stream",
          "name": "stdout",
          "text": [
            "5-way 5-shot Validation Set Accuracies [Feature Averaging]:\n",
            "\tBase Class Accuracy: 62.822667\n",
            "\tNovel Class Accuracy: 65.690000\n",
            "\tBoth Class Accuracy: 49.749000\n"
          ]
        }
      ]
    },
    {
      "cell_type": "markdown",
      "source": [
        "### 5-way 1-shot"
      ],
      "metadata": {
        "id": "45k7UgMcjspM"
      }
    },
    {
      "cell_type": "code",
      "source": [
        "few_shot_classifier = Classifier(gen_type=\"feat_avg\").to(device)\n",
        "few_shot_classifier.load_state_dict(torch.load('/content/drive/MyDrive/MiniImageNet/MiniImagenet/clas_stage2_1shot.pth'))"
      ],
      "metadata": {
        "colab": {
          "base_uri": "https://localhost:8080/"
        },
        "id": "wbGBxEpaj-QE",
        "outputId": "10d3b237-5e1e-4a2c-9f94-db8baa435f41"
      },
      "execution_count": null,
      "outputs": [
        {
          "output_type": "execute_result",
          "data": {
            "text/plain": [
              "<All keys matched successfully>"
            ]
          },
          "metadata": {},
          "execution_count": 35
        }
      ]
    },
    {
      "cell_type": "code",
      "source": [
        "feature_extractor.eval()\n",
        "acc_both = 0\n",
        "acc_novel = 0\n",
        "acc_base = 0\n",
        "cnt = 0\n",
        "for Xe,Ye,Xt,Yt,Kall,nKbase in val_dataloader_1():\n",
        "    Xe = Xe.to(device).view(1 * 5, 3, 84, 84)\n",
        "    features_train = feature_extractor(Xe)\n",
        "    features_train = features_train.resize(1,5,3200)\n",
        "    del Xe\n",
        "\n",
        "    Xt = Xt.to(device).view(1 * 150, 3, 84, 84)\n",
        "    features_test = feature_extractor(Xt)\n",
        "    features_test = features_test.resize(1,150,3200)\n",
        "    Ye = torch.tensor(Ye).to(device)\n",
        "    labels_train = []\n",
        "\n",
        "    for labels in Ye:\n",
        "      enc = OneHotEncoder()\n",
        "      labels_train.append(enc.fit_transform(labels.cpu().numpy().reshape(-1,1)).toarray())\n",
        "\n",
        "    labels_train = torch.tensor(labels_train).to(device)\n",
        "\n",
        "    output = few_shot_classifier(features_test, features_train.float(), labels_train.float(), Kbase_ids=None, batch_size=1)\n",
        "    \n",
        "\n",
        "    Yt = torch.tensor(Yt).to(device).view(1*150)    \n",
        "    nKbase = nKbase.to(device)\n",
        "\n",
        "    base_ids = torch.nonzero(Yt < nKbase).view(-1)\n",
        "    novel_ids = torch.nonzero(Yt >= nKbase).view(-1)\n",
        "    \n",
        "    \n",
        "    output = output.view(150,-1)\n",
        "    output_base = output[base_ids,:]\n",
        "    output_novel = output[novel_ids,:]\n",
        "    Yt_base = Yt[base_ids]\n",
        "    Yt_novel = Yt[novel_ids]\n",
        "\n",
        "    \n",
        "\n",
        "    pred_novel  = nKbase + torch.argmax(output_novel[:,nKbase:], dim=1)\n",
        "    pred_base = torch.argmax(output_base[:,:nKbase], dim=1)\n",
        "    pred_both  = torch.argmax(output,dim=1)\n",
        "\n",
        "\n",
        "    acc_both += skm.accuracy_score(Yt.cpu().detach().numpy(),pred_both.cpu().detach().numpy())\n",
        "    acc_base += skm.accuracy_score(Yt_base.cpu().detach().numpy(),pred_base.cpu().detach().numpy())\n",
        "    acc_novel += skm.accuracy_score(Yt_novel.cpu().detach().numpy(),pred_novel.cpu().detach().numpy())\n",
        "    cnt += 1\n",
        "\n",
        "print('5-way 1-shot Accuracies on Validation Set [Feature Averaging]:\\n\\tBase Class Accuracy: %f\\n\\tNovel Class Accuracy: %f\\n\\tBoth Class Accuracy: %f'%((acc_base/cnt)*100.0, (acc_novel/cnt)*100.0, (acc_both/cnt)*100.0))"
      ],
      "metadata": {
        "colab": {
          "base_uri": "https://localhost:8080/"
        },
        "id": "fYVbfnJ-2sy6",
        "outputId": "2907794f-a6c1-42ae-af1f-57d0de0c7eb5"
      },
      "execution_count": null,
      "outputs": [
        {
          "output_type": "stream",
          "name": "stdout",
          "text": [
            "5-way 1-shot Accuracies on Validation Set [Feature Averaging]:\n",
            "\tBase Class Accuracy: 62.427333\n",
            "\tNovel Class Accuracy: 48.004667\n",
            "\tBoth Class Accuracy: 41.031000\n"
          ]
        }
      ]
    },
    {
      "cell_type": "markdown",
      "source": [
        "## Attention"
      ],
      "metadata": {
        "id": "r54sZg95jgAE"
      }
    },
    {
      "cell_type": "markdown",
      "source": [
        "### 5-way 5-shot"
      ],
      "metadata": {
        "id": "CKggIm3jjvHs"
      }
    },
    {
      "cell_type": "code",
      "source": [
        "feature_extractor = C128F().to(device)\n",
        "feature_extractor.load_state_dict(torch.load(\"/content/drive/MyDrive/MiniImageNet/MiniImagenet/feat_Paper.pth\"))"
      ],
      "metadata": {
        "colab": {
          "base_uri": "https://localhost:8080/"
        },
        "id": "bxhiDgElvkfb",
        "outputId": "a5f82452-7016-4341-b792-b23f73a94ad7"
      },
      "execution_count": null,
      "outputs": [
        {
          "output_type": "execute_result",
          "data": {
            "text/plain": [
              "<All keys matched successfully>"
            ]
          },
          "metadata": {},
          "execution_count": 37
        }
      ]
    },
    {
      "cell_type": "code",
      "source": [
        "few_shot_classifier = Classifier(gen_type=\"attn\").to(device)\n",
        "few_shot_classifier.load_state_dict(torch.load('/content/drive/MyDrive/MiniImageNet/MiniImagenet/clas_stage2_attn_Paper_60.pth'))"
      ],
      "metadata": {
        "colab": {
          "base_uri": "https://localhost:8080/"
        },
        "id": "Y53mujT8jiQm",
        "outputId": "cc5ab8d3-2398-4da3-9bad-c58b81f08586"
      },
      "execution_count": null,
      "outputs": [
        {
          "output_type": "execute_result",
          "data": {
            "text/plain": [
              "<All keys matched successfully>"
            ]
          },
          "metadata": {},
          "execution_count": 38
        }
      ]
    },
    {
      "cell_type": "code",
      "source": [
        "feature_extractor.eval()\n",
        "acc_both = 0\n",
        "acc_novel = 0\n",
        "acc_base = 0\n",
        "cnt = 0\n",
        "for Xe,Ye,Xt,Yt,Kall,nKbase in val_dataloader_5():\n",
        "    Xe = Xe.to(device).view(1 * 25, 3, 84, 84)\n",
        "    features_train = feature_extractor(Xe)\n",
        "    features_train = features_train.resize(1,25,3200)\n",
        "    del Xe\n",
        "\n",
        "    Xt = Xt.to(device).view(1 * 150, 3, 84, 84)\n",
        "    features_test = feature_extractor(Xt)\n",
        "    features_test = features_test.resize(1,150,3200)\n",
        "    Ye = torch.tensor(Ye).to(device)\n",
        "    labels_train = []\n",
        "\n",
        "    for labels in Ye:\n",
        "      enc = OneHotEncoder()\n",
        "      labels_train.append(enc.fit_transform(labels.cpu().numpy().reshape(-1,1)).toarray())\n",
        "\n",
        "    labels_train = torch.tensor(labels_train).to(device)\n",
        "\n",
        "    output = few_shot_classifier(features_test, features_train.float(), labels_train.float(), Kbase_ids=None, batch_size=1)\n",
        "    \n",
        "\n",
        "    Yt = torch.tensor(Yt).to(device).view(1*150)    \n",
        "    nKbase = nKbase.to(device)\n",
        "\n",
        "    base_ids = torch.nonzero(Yt < nKbase).view(-1)\n",
        "    novel_ids = torch.nonzero(Yt >= nKbase).view(-1)\n",
        "    \n",
        "    \n",
        "    output = output.view(150,-1)\n",
        "    output_base = output[base_ids,:]\n",
        "    output_novel = output[novel_ids,:]\n",
        "    Yt_base = Yt[base_ids]\n",
        "    Yt_novel = Yt[novel_ids]\n",
        "\n",
        "    \n",
        "\n",
        "    pred_novel  = nKbase + torch.argmax(output_novel[:,nKbase:], dim=1)\n",
        "    pred_base = torch.argmax(output_base[:,:nKbase], dim=1)\n",
        "    pred_both  = torch.argmax(output,dim=1)\n",
        "\n",
        "\n",
        "    acc_both += skm.accuracy_score(Yt.cpu().detach().numpy(),pred_both.cpu().detach().numpy())\n",
        "    acc_base += skm.accuracy_score(Yt_base.cpu().detach().numpy(),pred_base.cpu().detach().numpy())\n",
        "    acc_novel += skm.accuracy_score(Yt_novel.cpu().detach().numpy(),pred_novel.cpu().detach().numpy())\n",
        "    cnt += 1\n",
        "\n",
        "print('5-way 5-shot Validation Set Accuracies [Attention]:\\n\\tBase Class Accuracy: %f\\n\\tNovel Class Accuracy: %f\\n\\tBoth Class Accuracy: %f'%((acc_base/cnt)*100.0, (acc_novel/cnt)*100.0, (acc_both/cnt)*100.0))"
      ],
      "metadata": {
        "colab": {
          "base_uri": "https://localhost:8080/"
        },
        "id": "36Gg4Oq4j2fe",
        "outputId": "52af17d7-71db-4a2c-f8a5-c43e8263bd8a"
      },
      "execution_count": null,
      "outputs": [
        {
          "output_type": "stream",
          "name": "stdout",
          "text": [
            "5-way 5-shot Validation Set Accuracies [Attention]:\n",
            "\tBase Class Accuracy: 70.367333\n",
            "\tNovel Class Accuracy: 73.127333\n",
            "\tBoth Class Accuracy: 58.022667\n"
          ]
        }
      ]
    },
    {
      "cell_type": "markdown",
      "source": [
        "### 5-way 1-shot"
      ],
      "metadata": {
        "id": "KwWdG1eWj61j"
      }
    },
    {
      "cell_type": "code",
      "source": [
        "few_shot_classifier = Classifier(gen_type=\"attn\").to(device)\n",
        "few_shot_classifier.load_state_dict(torch.load('/content/drive/MyDrive/MiniImageNet/MiniImagenet/clas_stage2_1shot_paper_attn_60.pth'))"
      ],
      "metadata": {
        "colab": {
          "base_uri": "https://localhost:8080/"
        },
        "id": "9xnkDjDbj8pG",
        "outputId": "59d4f7c1-b13f-42de-b63e-72bd16342f9e"
      },
      "execution_count": null,
      "outputs": [
        {
          "output_type": "execute_result",
          "data": {
            "text/plain": [
              "<All keys matched successfully>"
            ]
          },
          "metadata": {},
          "execution_count": 40
        }
      ]
    },
    {
      "cell_type": "code",
      "source": [
        "feature_extractor.eval()\n",
        "acc_both = 0\n",
        "acc_novel = 0\n",
        "acc_base = 0\n",
        "cnt = 0\n",
        "for Xe,Ye,Xt,Yt,Kall,nKbase in val_dataloader_1():\n",
        "    Xe = Xe.to(device).view(1 * 5, 3, 84, 84)\n",
        "    features_train = feature_extractor(Xe)\n",
        "    features_train = features_train.resize(1,5,3200)\n",
        "    del Xe\n",
        "\n",
        "    Xt = Xt.to(device).view(1 * 150, 3, 84, 84)\n",
        "    features_test = feature_extractor(Xt)\n",
        "    features_test = features_test.resize(1,150,3200)\n",
        "    Ye = torch.tensor(Ye).to(device)\n",
        "    labels_train = []\n",
        "\n",
        "    for labels in Ye:\n",
        "      enc = OneHotEncoder()\n",
        "      labels_train.append(enc.fit_transform(labels.cpu().numpy().reshape(-1,1)).toarray())\n",
        "\n",
        "    labels_train = torch.tensor(labels_train).to(device)\n",
        "\n",
        "    output = few_shot_classifier(features_test, features_train.float(), labels_train.float(), Kbase_ids=None, batch_size=1)\n",
        "    \n",
        "\n",
        "    Yt = torch.tensor(Yt).to(device).view(1*150)    \n",
        "    nKbase = nKbase.to(device)\n",
        "\n",
        "    base_ids = torch.nonzero(Yt < nKbase).view(-1)\n",
        "    novel_ids = torch.nonzero(Yt >= nKbase).view(-1)\n",
        "    \n",
        "    \n",
        "    output = output.view(150,-1)\n",
        "    output_base = output[base_ids,:]\n",
        "    output_novel = output[novel_ids,:]\n",
        "    Yt_base = Yt[base_ids]\n",
        "    Yt_novel = Yt[novel_ids]\n",
        "\n",
        "    \n",
        "\n",
        "    pred_novel  = nKbase + torch.argmax(output_novel[:,nKbase:], dim=1)\n",
        "    pred_base = torch.argmax(output_base[:,:nKbase], dim=1)\n",
        "    pred_both  = torch.argmax(output,dim=1)\n",
        "\n",
        "\n",
        "    acc_both += skm.accuracy_score(Yt.cpu().detach().numpy(),pred_both.cpu().detach().numpy())\n",
        "    acc_base += skm.accuracy_score(Yt_base.cpu().detach().numpy(),pred_base.cpu().detach().numpy())\n",
        "    acc_novel += skm.accuracy_score(Yt_novel.cpu().detach().numpy(),pred_novel.cpu().detach().numpy())\n",
        "    cnt += 1\n",
        "\n",
        "print('5-way 1-shot Accuracies on Validation Set [Attention]:\\n\\tBase Class Accuracy: %f\\n\\tNovel Class Accuracy: %f\\n\\tBoth Class Accuracy: %f'%((acc_base/cnt)*100.0, (acc_novel/cnt)*100.0, (acc_both/cnt)*100.0))"
      ],
      "metadata": {
        "colab": {
          "base_uri": "https://localhost:8080/"
        },
        "id": "e_5hhTbvkCw8",
        "outputId": "9f3c41e5-664e-4166-fe56-b954531054d1"
      },
      "execution_count": null,
      "outputs": [
        {
          "output_type": "stream",
          "name": "stdout",
          "text": [
            "5-way 1-shot Accuracies on Validation Set [Attention]:\n",
            "\tBase Class Accuracy: 70.406000\n",
            "\tNovel Class Accuracy: 56.845333\n",
            "\tBoth Class Accuracy: 48.548333\n"
          ]
        }
      ]
    },
    {
      "cell_type": "markdown",
      "metadata": {
        "id": "JsgqlRVgpcWy"
      },
      "source": [
        "# Evaluating on Test Sets"
      ]
    },
    {
      "cell_type": "code",
      "metadata": {
        "id": "Arc54COcpgFn"
      },
      "source": [
        "with open(\"/content/drive/MyDrive/MiniImageNet/MiniImagenet/miniImageNet_category_split_test.pickle\", 'rb') as f:\n",
        "      novel_test_data = pickle.load(f, encoding='latin1')"
      ],
      "execution_count": null,
      "outputs": []
    },
    {
      "cell_type": "code",
      "metadata": {
        "id": "OxBcsFY-pgFn"
      },
      "source": [
        "with open(\"/content/drive/MyDrive/MiniImageNet/MiniImagenet/miniImageNet_category_split_train_phase_test.pickle\", 'rb') as f:\n",
        "      base_test_data = pickle.load(f, encoding='latin1')"
      ],
      "execution_count": null,
      "outputs": []
    },
    {
      "cell_type": "code",
      "metadata": {
        "id": "Ph8Z7PKOpgFo"
      },
      "source": [
        "test_data = MiniImageNet(data_base=base_test_data, data_novel=novel_test_data, phase='val')"
      ],
      "execution_count": null,
      "outputs": []
    },
    {
      "cell_type": "code",
      "metadata": {
        "id": "7mFsx21wpgFo"
      },
      "source": [
        "# 5-way 5-shot\n",
        "\n",
        "test_dataloader_5 = FewShotDataloader(\n",
        "    test_data, \n",
        "    nKnovel=5, \n",
        "    nKbase=64,\n",
        "    nExemplars=5, \n",
        "    nTestNovel=75, \n",
        "    nTestBase=75, \n",
        "    batch_size=1, \n",
        "    epoch_size=600\n",
        ")"
      ],
      "execution_count": null,
      "outputs": []
    },
    {
      "cell_type": "code",
      "source": [
        "# 5-way 1-shot\n",
        "\n",
        "test_dataloader_1 = FewShotDataloader(\n",
        "    test_data, \n",
        "    nKnovel=5, \n",
        "    nKbase=64,\n",
        "    nExemplars=1, \n",
        "    nTestNovel=75, \n",
        "    nTestBase=75, \n",
        "    batch_size=1, \n",
        "    epoch_size=600\n",
        ")"
      ],
      "metadata": {
        "id": "InbSg_GD3Esa"
      },
      "execution_count": null,
      "outputs": []
    },
    {
      "cell_type": "markdown",
      "source": [
        "## Feature Averaging"
      ],
      "metadata": {
        "id": "RjWwygT_kQ8r"
      }
    },
    {
      "cell_type": "markdown",
      "source": [
        "### 5-way 5-shot"
      ],
      "metadata": {
        "id": "HptC07jakTJ8"
      }
    },
    {
      "cell_type": "code",
      "source": [
        "feature_extractor = C128F().to(device)\n",
        "feature_extractor.load_state_dict(torch.load(\"/content/drive/MyDrive/MiniImageNet/MiniImagenet/feat.pth\"))"
      ],
      "metadata": {
        "colab": {
          "base_uri": "https://localhost:8080/"
        },
        "id": "mAg18j72wO_c",
        "outputId": "f89fde61-ee93-4ff6-ce17-eb9088f8e2f1"
      },
      "execution_count": null,
      "outputs": [
        {
          "output_type": "execute_result",
          "data": {
            "text/plain": [
              "<All keys matched successfully>"
            ]
          },
          "metadata": {},
          "execution_count": 47
        }
      ]
    },
    {
      "cell_type": "code",
      "metadata": {
        "colab": {
          "base_uri": "https://localhost:8080/"
        },
        "id": "RpxW6twgpgFo",
        "outputId": "fc7d18ad-0edf-4360-f90f-5bd32a547d80"
      },
      "source": [
        "few_shot_classifier = Classifier(gen_type=\"feat_avg\").to(device)\n",
        "few_shot_classifier.load_state_dict(torch.load('/content/drive/MyDrive/MiniImageNet/MiniImagenet/clas_stage2.pth'))"
      ],
      "execution_count": null,
      "outputs": [
        {
          "output_type": "execute_result",
          "data": {
            "text/plain": [
              "<All keys matched successfully>"
            ]
          },
          "metadata": {},
          "execution_count": 48
        }
      ]
    },
    {
      "cell_type": "code",
      "metadata": {
        "colab": {
          "base_uri": "https://localhost:8080/"
        },
        "id": "3cCc98_ApgFp",
        "outputId": "b9ae7ad5-cc3c-4eda-83f1-f3c3c10dbe85"
      },
      "source": [
        "feature_extractor.eval()\n",
        "acc_both = 0\n",
        "acc_novel = 0\n",
        "acc_base = 0\n",
        "cnt = 0\n",
        "for Xe,Ye,Xt,Yt,Kall,nKbase in test_dataloader_5():\n",
        "    Xe = Xe.to(device).view(1 * 25, 3, 84, 84)\n",
        "    features_train = feature_extractor(Xe)\n",
        "    features_train = features_train.resize(1,25,3200)\n",
        "    del Xe\n",
        "\n",
        "    Xt = Xt.to(device).view(1 * 150, 3, 84, 84)\n",
        "    features_test = feature_extractor(Xt)\n",
        "    features_test = features_test.resize(1,150,3200)\n",
        "    Ye = torch.tensor(Ye).to(device)\n",
        "    labels_train = []\n",
        "\n",
        "    for labels in Ye:\n",
        "      enc = OneHotEncoder()\n",
        "      labels_train.append(enc.fit_transform(labels.cpu().numpy().reshape(-1,1)).toarray())\n",
        "\n",
        "    labels_train = torch.tensor(labels_train).to(device)\n",
        "\n",
        "    output = few_shot_classifier(features_test, features_train.float(), labels_train.float(), Kbase_ids=None, batch_size=1)\n",
        "    \n",
        "\n",
        "    Yt = torch.tensor(Yt).to(device).view(1*150)    \n",
        "    nKbase = nKbase.to(device)\n",
        "\n",
        "    base_ids = torch.nonzero(Yt < nKbase).view(-1)\n",
        "    novel_ids = torch.nonzero(Yt >= nKbase).view(-1)\n",
        "    \n",
        "    \n",
        "    output = output.view(150,-1)\n",
        "    output_base = output[base_ids,:]\n",
        "    output_novel = output[novel_ids,:]\n",
        "    Yt_base = Yt[base_ids]\n",
        "    Yt_novel = Yt[novel_ids]\n",
        "\n",
        "    \n",
        "\n",
        "    pred_novel  = nKbase + torch.argmax(output_novel[:,nKbase:], dim=1)\n",
        "    pred_base = torch.argmax(output_base[:,:nKbase], dim=1)\n",
        "    pred_both  = torch.argmax(output,dim=1)\n",
        "\n",
        "\n",
        "    acc_both += skm.accuracy_score(Yt.cpu().detach().numpy(),pred_both.cpu().detach().numpy())\n",
        "    acc_base += skm.accuracy_score(Yt_base.cpu().detach().numpy(),pred_base.cpu().detach().numpy())\n",
        "    acc_novel += skm.accuracy_score(Yt_novel.cpu().detach().numpy(),pred_novel.cpu().detach().numpy())\n",
        "    cnt += 1\n",
        "\n",
        "print('5-way 5-shot Test Set Accuracies [Feature Averaging]:\\n\\tBase Class Accuracy: %f\\n\\tNovel Class Accuracy: %f\\n\\tBoth Class Accuracy: %f'%((acc_base/cnt)*100.0, (acc_novel/cnt)*100.0, (acc_both/cnt)*100.0))"
      ],
      "execution_count": null,
      "outputs": [
        {
          "output_type": "stream",
          "name": "stdout",
          "text": [
            "5-way 5-shot Test Set Accuracies [Feature Averaging]:\n",
            "\tBase Class Accuracy: 61.564444\n",
            "\tNovel Class Accuracy: 66.744444\n",
            "\tBoth Class Accuracy: 50.903333\n"
          ]
        }
      ]
    },
    {
      "cell_type": "markdown",
      "source": [
        "### 5-way 1-shot"
      ],
      "metadata": {
        "id": "Yp2aj-IHkzJk"
      }
    },
    {
      "cell_type": "code",
      "source": [
        "few_shot_classifier = Classifier(gen_type=\"feat_avg\").to(device)\n",
        "few_shot_classifier.load_state_dict(torch.load('/content/drive/MyDrive/MiniImageNet/MiniImagenet/clas_stage2_1shot.pth'))"
      ],
      "metadata": {
        "colab": {
          "base_uri": "https://localhost:8080/"
        },
        "id": "LpCBeuXvk2V0",
        "outputId": "d4ff78a7-c6c5-4e2e-877f-92be66a43ffd"
      },
      "execution_count": null,
      "outputs": [
        {
          "output_type": "execute_result",
          "data": {
            "text/plain": [
              "<All keys matched successfully>"
            ]
          },
          "metadata": {},
          "execution_count": 50
        }
      ]
    },
    {
      "cell_type": "code",
      "source": [
        "feature_extractor.eval()\n",
        "acc_both = 0\n",
        "acc_novel = 0\n",
        "acc_base = 0\n",
        "cnt = 0\n",
        "for Xe,Ye,Xt,Yt,Kall,nKbase in test_dataloader_1():\n",
        "    Xe = Xe.to(device).view(1 * 5, 3, 84, 84)\n",
        "    features_train = feature_extractor(Xe)\n",
        "    features_train = features_train.resize(1,5,3200)\n",
        "    del Xe\n",
        "\n",
        "    Xt = Xt.to(device).view(1 * 150, 3, 84, 84)\n",
        "    features_test = feature_extractor(Xt)\n",
        "    features_test = features_test.resize(1,150,3200)\n",
        "    Ye = torch.tensor(Ye).to(device)\n",
        "    labels_train = []\n",
        "\n",
        "    for labels in Ye:\n",
        "      enc = OneHotEncoder()\n",
        "      labels_train.append(enc.fit_transform(labels.cpu().numpy().reshape(-1,1)).toarray())\n",
        "\n",
        "    labels_train = torch.tensor(labels_train).to(device)\n",
        "\n",
        "    output = few_shot_classifier(features_test, features_train.float(), labels_train.float(), Kbase_ids=None, batch_size=1)\n",
        "    \n",
        "\n",
        "    Yt = torch.tensor(Yt).to(device).view(1*150)    \n",
        "    nKbase = nKbase.to(device)\n",
        "\n",
        "    base_ids = torch.nonzero(Yt < nKbase).view(-1)\n",
        "    novel_ids = torch.nonzero(Yt >= nKbase).view(-1)\n",
        "    \n",
        "    \n",
        "    output = output.view(150,-1)\n",
        "    output_base = output[base_ids,:]\n",
        "    output_novel = output[novel_ids,:]\n",
        "    Yt_base = Yt[base_ids]\n",
        "    Yt_novel = Yt[novel_ids]\n",
        "\n",
        "    \n",
        "\n",
        "    pred_novel  = nKbase + torch.argmax(output_novel[:,nKbase:], dim=1)\n",
        "    pred_base = torch.argmax(output_base[:,:nKbase], dim=1)\n",
        "    pred_both  = torch.argmax(output,dim=1)\n",
        "\n",
        "\n",
        "    acc_both += skm.accuracy_score(Yt.cpu().detach().numpy(),pred_both.cpu().detach().numpy())\n",
        "    acc_base += skm.accuracy_score(Yt_base.cpu().detach().numpy(),pred_base.cpu().detach().numpy())\n",
        "    acc_novel += skm.accuracy_score(Yt_novel.cpu().detach().numpy(),pred_novel.cpu().detach().numpy())\n",
        "    cnt += 1\n",
        "\n",
        "print('5-way 1-shot Test Set Accuracies [Feature Averaging]:\\n\\tBase Class Accuracy: %f\\n\\tNovel Class Accuracy: %f\\n\\tBoth Class Accuracy: %f'%((acc_base/cnt)*100.0, (acc_novel/cnt)*100.0, (acc_both/cnt)*100.0))"
      ],
      "metadata": {
        "colab": {
          "base_uri": "https://localhost:8080/"
        },
        "id": "lOBoCxF33ISz",
        "outputId": "ca77891a-7b4e-4fd5-b2e0-77555478cfe1"
      },
      "execution_count": null,
      "outputs": [
        {
          "output_type": "stream",
          "name": "stdout",
          "text": [
            "5-way 1-shot Test Set Accuracies [Feature Averaging]:\n",
            "\tBase Class Accuracy: 61.431111\n",
            "\tNovel Class Accuracy: 50.160000\n",
            "\tBoth Class Accuracy: 42.183333\n"
          ]
        }
      ]
    },
    {
      "cell_type": "markdown",
      "source": [
        "## Attention"
      ],
      "metadata": {
        "id": "0IYHLkqwlAu8"
      }
    },
    {
      "cell_type": "markdown",
      "source": [
        "### 5-way 5-shot"
      ],
      "metadata": {
        "id": "lIPJ6M5-lFid"
      }
    },
    {
      "cell_type": "code",
      "source": [
        "feature_extractor = C128F().to(device)\n",
        "feature_extractor.load_state_dict(torch.load(\"/content/drive/MyDrive/MiniImageNet/MiniImagenet/feat_Paper.pth\"))"
      ],
      "metadata": {
        "colab": {
          "base_uri": "https://localhost:8080/"
        },
        "id": "J1mzoM7nwR-q",
        "outputId": "ec923e0c-6a82-4ec8-86bf-4029244a25b8"
      },
      "execution_count": null,
      "outputs": [
        {
          "output_type": "execute_result",
          "data": {
            "text/plain": [
              "<All keys matched successfully>"
            ]
          },
          "metadata": {},
          "execution_count": 52
        }
      ]
    },
    {
      "cell_type": "code",
      "source": [
        "few_shot_classifier = Classifier(gen_type=\"attn\").to(device)\n",
        "few_shot_classifier.load_state_dict(torch.load('/content/drive/MyDrive/MiniImageNet/MiniImagenet/clas_stage2_attn_Paper_60.pth'))"
      ],
      "metadata": {
        "colab": {
          "base_uri": "https://localhost:8080/"
        },
        "id": "G2k6Ug53lBv8",
        "outputId": "c2f5b6cf-f29b-4924-e01d-b086344ce14f"
      },
      "execution_count": null,
      "outputs": [
        {
          "output_type": "execute_result",
          "data": {
            "text/plain": [
              "<All keys matched successfully>"
            ]
          },
          "metadata": {},
          "execution_count": 53
        }
      ]
    },
    {
      "cell_type": "code",
      "source": [
        "feature_extractor.eval()\n",
        "acc_both = 0\n",
        "acc_novel = 0\n",
        "acc_base = 0\n",
        "cnt = 0\n",
        "for Xe,Ye,Xt,Yt,Kall,nKbase in test_dataloader_5():\n",
        "    Xe = Xe.to(device).view(1 * 25, 3, 84, 84)\n",
        "    features_train = feature_extractor(Xe)\n",
        "    features_train = features_train.resize(1,25,3200)\n",
        "    del Xe\n",
        "\n",
        "    Xt = Xt.to(device).view(1 * 150, 3, 84, 84)\n",
        "    features_test = feature_extractor(Xt)\n",
        "    features_test = features_test.resize(1,150,3200)\n",
        "    Ye = torch.tensor(Ye).to(device)\n",
        "    labels_train = []\n",
        "\n",
        "    for labels in Ye:\n",
        "      enc = OneHotEncoder()\n",
        "      labels_train.append(enc.fit_transform(labels.cpu().numpy().reshape(-1,1)).toarray())\n",
        "\n",
        "    labels_train = torch.tensor(labels_train).to(device)\n",
        "\n",
        "    output = few_shot_classifier(features_test, features_train.float(), labels_train.float(), Kbase_ids=None, batch_size=1)\n",
        "    \n",
        "\n",
        "    Yt = torch.tensor(Yt).to(device).view(1*150)    \n",
        "    nKbase = nKbase.to(device)\n",
        "\n",
        "    base_ids = torch.nonzero(Yt < nKbase).view(-1)\n",
        "    novel_ids = torch.nonzero(Yt >= nKbase).view(-1)\n",
        "    \n",
        "    \n",
        "    output = output.view(150,-1)\n",
        "    output_base = output[base_ids,:]\n",
        "    output_novel = output[novel_ids,:]\n",
        "    Yt_base = Yt[base_ids]\n",
        "    Yt_novel = Yt[novel_ids]\n",
        "\n",
        "    \n",
        "\n",
        "    pred_novel  = nKbase + torch.argmax(output_novel[:,nKbase:], dim=1)\n",
        "    pred_base = torch.argmax(output_base[:,:nKbase], dim=1)\n",
        "    pred_both  = torch.argmax(output,dim=1)\n",
        "\n",
        "\n",
        "    acc_both += skm.accuracy_score(Yt.cpu().detach().numpy(),pred_both.cpu().detach().numpy())\n",
        "    acc_base += skm.accuracy_score(Yt_base.cpu().detach().numpy(),pred_base.cpu().detach().numpy())\n",
        "    acc_novel += skm.accuracy_score(Yt_novel.cpu().detach().numpy(),pred_novel.cpu().detach().numpy())\n",
        "    cnt += 1\n",
        "\n",
        "print('5-way 5-shot Test Set Accuracies [Attention]:\\n\\tBase Class Accuracy: %f\\n\\tNovel Class Accuracy: %f\\n\\tBoth Class Accuracy: %f'%((acc_base/cnt)*100.0, (acc_novel/cnt)*100.0, (acc_both/cnt)*100.0))"
      ],
      "metadata": {
        "colab": {
          "base_uri": "https://localhost:8080/"
        },
        "id": "78Kh1Af-lLQj",
        "outputId": "33ef084f-a1dd-4e25-d604-65c32440ac75"
      },
      "execution_count": null,
      "outputs": [
        {
          "output_type": "stream",
          "name": "stdout",
          "text": [
            "5-way 5-shot Test Set Accuracies [Attention]:\n",
            "\tBase Class Accuracy: 70.128889\n",
            "\tNovel Class Accuracy: 71.248889\n",
            "\tBoth Class Accuracy: 56.648889\n"
          ]
        }
      ]
    },
    {
      "cell_type": "markdown",
      "source": [
        "### 5-way 1-shot"
      ],
      "metadata": {
        "id": "ibrhBGSxlQDD"
      }
    },
    {
      "cell_type": "code",
      "source": [
        "few_shot_classifier = Classifier(gen_type=\"attn\").to(device)\n",
        "few_shot_classifier.load_state_dict(torch.load('/content/drive/MyDrive/MiniImageNet/MiniImagenet/clas_stage2_1shot_paper_attn_60.pth'))"
      ],
      "metadata": {
        "colab": {
          "base_uri": "https://localhost:8080/"
        },
        "id": "Ky1dyMu-lRcA",
        "outputId": "e2be3b27-a594-42ab-9975-471c113f9d3f"
      },
      "execution_count": null,
      "outputs": [
        {
          "output_type": "execute_result",
          "data": {
            "text/plain": [
              "<All keys matched successfully>"
            ]
          },
          "metadata": {},
          "execution_count": 55
        }
      ]
    },
    {
      "cell_type": "code",
      "source": [
        "feature_extractor.eval()\n",
        "acc_both = 0\n",
        "acc_novel = 0\n",
        "acc_base = 0\n",
        "cnt = 0\n",
        "for Xe,Ye,Xt,Yt,Kall,nKbase in test_dataloader_1():\n",
        "    Xe = Xe.to(device).view(1 * 5, 3, 84, 84)\n",
        "    features_train = feature_extractor(Xe)\n",
        "    features_train = features_train.resize(1,5,3200)\n",
        "    del Xe\n",
        "\n",
        "    Xt = Xt.to(device).view(1 * 150, 3, 84, 84)\n",
        "    features_test = feature_extractor(Xt)\n",
        "    features_test = features_test.resize(1,150,3200)\n",
        "    Ye = torch.tensor(Ye).to(device)\n",
        "    labels_train = []\n",
        "\n",
        "    for labels in Ye:\n",
        "      enc = OneHotEncoder()\n",
        "      labels_train.append(enc.fit_transform(labels.cpu().numpy().reshape(-1,1)).toarray())\n",
        "\n",
        "    labels_train = torch.tensor(labels_train).to(device)\n",
        "\n",
        "    output = few_shot_classifier(features_test, features_train.float(), labels_train.float(), Kbase_ids=None, batch_size=1)\n",
        "    \n",
        "\n",
        "    Yt = torch.tensor(Yt).to(device).view(1*150)    \n",
        "    nKbase = nKbase.to(device)\n",
        "\n",
        "    base_ids = torch.nonzero(Yt < nKbase).view(-1)\n",
        "    novel_ids = torch.nonzero(Yt >= nKbase).view(-1)\n",
        "    \n",
        "    \n",
        "    output = output.view(150,-1)\n",
        "    output_base = output[base_ids,:]\n",
        "    output_novel = output[novel_ids,:]\n",
        "    Yt_base = Yt[base_ids]\n",
        "    Yt_novel = Yt[novel_ids]\n",
        "\n",
        "    \n",
        "\n",
        "    pred_novel  = nKbase + torch.argmax(output_novel[:,nKbase:], dim=1)\n",
        "    pred_base = torch.argmax(output_base[:,:nKbase], dim=1)\n",
        "    pred_both  = torch.argmax(output,dim=1)\n",
        "\n",
        "\n",
        "    acc_both += skm.accuracy_score(Yt.cpu().detach().numpy(),pred_both.cpu().detach().numpy())\n",
        "    acc_base += skm.accuracy_score(Yt_base.cpu().detach().numpy(),pred_base.cpu().detach().numpy())\n",
        "    acc_novel += skm.accuracy_score(Yt_novel.cpu().detach().numpy(),pred_novel.cpu().detach().numpy())\n",
        "    cnt += 1\n",
        "\n",
        "print('5-way 1-shot Test Set Accuracies [Attention]:\\n\\tBase Class Accuracy: %f\\n\\tNovel Class Accuracy: %f\\n\\tBoth Class Accuracy: %f'%((acc_base/cnt)*100.0, (acc_novel/cnt)*100.0, (acc_both/cnt)*100.0))"
      ],
      "metadata": {
        "colab": {
          "base_uri": "https://localhost:8080/"
        },
        "id": "FKxabKQalVJl",
        "outputId": "9bf196c4-ffa8-4c83-9f24-8c604fbcbd42"
      },
      "execution_count": null,
      "outputs": [
        {
          "output_type": "stream",
          "name": "stdout",
          "text": [
            "5-way 1-shot Test Set Accuracies [Attention]:\n",
            "\tBase Class Accuracy: 70.004444\n",
            "\tNovel Class Accuracy: 54.824444\n",
            "\tBoth Class Accuracy: 47.465556\n"
          ]
        }
      ]
    }
  ]
}